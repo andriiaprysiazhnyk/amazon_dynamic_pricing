{
 "cells": [
  {
   "cell_type": "code",
   "execution_count": 1,
   "id": "interracial-chosen",
   "metadata": {},
   "outputs": [],
   "source": [
    "import os\n",
    "import yaml\n",
    "import numpy as np\n",
    "import pandas as pd\n",
    "import altair as alt\n",
    "\n",
    "alt.data_transformers.disable_max_rows()\n",
    "alt.renderers.enable('mimetype');"
   ]
  },
  {
   "cell_type": "markdown",
   "id": "wanted-contributor",
   "metadata": {},
   "source": [
    "### Read Data"
   ]
  },
  {
   "cell_type": "code",
   "execution_count": 2,
   "id": "capital-bikini",
   "metadata": {},
   "outputs": [],
   "source": [
    "with open(\"config.yaml\", \"r\") as config_file:\n",
    "    config = yaml.full_load(config_file)\n",
    "    data_path = config[\"data_path\"]\n",
    "    models_path = config[\"models_path\"]"
   ]
  },
  {
   "cell_type": "code",
   "execution_count": 3,
   "id": "infectious-funds",
   "metadata": {},
   "outputs": [
    {
     "data": {
      "text/html": [
       "<div>\n",
       "<style scoped>\n",
       "    .dataframe tbody tr th:only-of-type {\n",
       "        vertical-align: middle;\n",
       "    }\n",
       "\n",
       "    .dataframe tbody tr th {\n",
       "        vertical-align: top;\n",
       "    }\n",
       "\n",
       "    .dataframe thead th {\n",
       "        text-align: right;\n",
       "    }\n",
       "</style>\n",
       "<table border=\"1\" class=\"dataframe\">\n",
       "  <thead>\n",
       "    <tr style=\"text-align: right;\">\n",
       "      <th></th>\n",
       "      <th>price</th>\n",
       "      <th>rank</th>\n",
       "    </tr>\n",
       "  </thead>\n",
       "  <tbody>\n",
       "    <tr>\n",
       "      <th>0</th>\n",
       "      <td>2</td>\n",
       "      <td>7493.0</td>\n",
       "    </tr>\n",
       "    <tr>\n",
       "      <th>1</th>\n",
       "      <td>3</td>\n",
       "      <td>45263.0</td>\n",
       "    </tr>\n",
       "    <tr>\n",
       "      <th>2</th>\n",
       "      <td>4</td>\n",
       "      <td>43795.0</td>\n",
       "    </tr>\n",
       "  </tbody>\n",
       "</table>\n",
       "</div>"
      ],
      "text/plain": [
       "   price     rank\n",
       "0      2   7493.0\n",
       "1      3  45263.0\n",
       "2      4  43795.0"
      ]
     },
     "execution_count": 3,
     "metadata": {},
     "output_type": "execute_result"
    }
   ],
   "source": [
    "price_rank_df = pd.read_csv(os.path.join(data_path, \"price_rank_data2.csv\"))\n",
    "price_rank_df.head(3)"
   ]
  },
  {
   "cell_type": "markdown",
   "id": "changed-fluid",
   "metadata": {},
   "source": [
    "### Curve fitting"
   ]
  },
  {
   "cell_type": "code",
   "execution_count": 4,
   "id": "external-stick",
   "metadata": {},
   "outputs": [
    {
     "name": "stdout",
     "output_type": "stream",
     "text": [
      "Min price: 2\n",
      "Max price: 49\n"
     ]
    }
   ],
   "source": [
    "min_price, max_price = price_rank_df[\"price\"].min(), price_rank_df[\"price\"].max()\n",
    "print(f\"Min price: {min_price}\\nMax price: {max_price}\")"
   ]
  },
  {
   "cell_type": "code",
   "execution_count": 5,
   "id": "applied-jungle",
   "metadata": {},
   "outputs": [
    {
     "data": {
      "application/vnd.vegalite.v4+json": {
       "$schema": "https://vega.github.io/schema/vega-lite/v4.8.1.json",
       "config": {
        "axis": {
         "labelFontSize": 14,
         "titleFontSize": 14
        },
        "view": {
         "continuousHeight": 300,
         "continuousWidth": 400
        }
       },
       "data": {
        "name": "data-71aec21113d321da549d16ee3a626725"
       },
       "datasets": {
        "data-71aec21113d321da549d16ee3a626725": [
         {
          "price": 2,
          "rank": 7493
         },
         {
          "price": 3,
          "rank": 45263
         },
         {
          "price": 4,
          "rank": 43795
         },
         {
          "price": 5,
          "rank": 27016.2
         },
         {
          "price": 6,
          "rank": 32113.000000000007
         },
         {
          "price": 7,
          "rank": 68654.20000000001
         },
         {
          "price": 8,
          "rank": 174219
         },
         {
          "price": 9,
          "rank": 82435
         },
         {
          "price": 10,
          "rank": 96969.60000000002
         },
         {
          "price": 11,
          "rank": 176899.0000000001
         },
         {
          "price": 12,
          "rank": 129354.40000000002
         },
         {
          "price": 13,
          "rank": 22231
         },
         {
          "price": 14,
          "rank": 3295.600000000003
         },
         {
          "price": 15,
          "rank": 28652.400000000016
         },
         {
          "price": 16,
          "rank": 58226.60000000001
         },
         {
          "price": 17,
          "rank": 29443.40000000001
         },
         {
          "price": 18,
          "rank": 37020.80000000005
         },
         {
          "price": 19,
          "rank": 13049.000000000002
         },
         {
          "price": 20,
          "rank": 21912.200000000008
         },
         {
          "price": 21,
          "rank": 50421.00000000001
         },
         {
          "price": 22,
          "rank": 2435.6
         },
         {
          "price": 23,
          "rank": 2441.8
         },
         {
          "price": 24,
          "rank": 2468
         },
         {
          "price": 25,
          "rank": 15735.600000000006
         },
         {
          "price": 26,
          "rank": 2423.6
         },
         {
          "price": 27,
          "rank": 2434.6000000000004
         },
         {
          "price": 28,
          "rank": 2349.2
         },
         {
          "price": 29,
          "rank": 7755.2
         },
         {
          "price": 30,
          "rank": 82528.80000000002
         },
         {
          "price": 31,
          "rank": 94913.6
         },
         {
          "price": 33,
          "rank": 33644.00000000001
         },
         {
          "price": 34,
          "rank": 62584.200000000026
         },
         {
          "price": 35,
          "rank": 246808
         },
         {
          "price": 39,
          "rank": 218458.2
         },
         {
          "price": 40,
          "rank": 76215
         },
         {
          "price": 41,
          "rank": 90702
         },
         {
          "price": 42,
          "rank": 102728.8
         },
         {
          "price": 43,
          "rank": 141620
         },
         {
          "price": 44,
          "rank": 162861.4
         },
         {
          "price": 45,
          "rank": 157731
         },
         {
          "price": 46,
          "rank": 148976.4
         },
         {
          "price": 47,
          "rank": 159033
         },
         {
          "price": 48,
          "rank": 196730
         },
         {
          "price": 49,
          "rank": 112021
         }
        ]
       },
       "encoding": {
        "x": {
         "field": "price",
         "scale": {
          "zero": false
         },
         "type": "quantitative"
        },
        "y": {
         "field": "rank",
         "scale": {
          "zero": false
         },
         "type": "quantitative"
        }
       },
       "height": 350,
       "mark": "point",
       "width": 700
      },
      "image/png": "[encoded data removed]",
      "text/plain": [
       "<VegaLite 4 object>\n",
       "\n",
       "If you see this message, it means the renderer has not been properly enabled\n",
       "for the frontend that you are using. For more information, see\n",
       "https://altair-viz.github.io/user_guide/troubleshooting.html\n"
      ]
     },
     "execution_count": 5,
     "metadata": {},
     "output_type": "execute_result"
    }
   ],
   "source": [
    "alt.Chart(price_rank_df).mark_point().encode(\n",
    "    x=alt.X('price:Q', scale=alt.Scale(zero=False)),\n",
    "    y=alt.Y('rank:Q', scale=alt.Scale(zero=False))\n",
    ").properties(width=700, height=350).configure_axis(\n",
    "    labelFontSize=14,\n",
    "    titleFontSize=14\n",
    ")"
   ]
  },
  {
   "cell_type": "code",
   "execution_count": 6,
   "id": "turkish-circuit",
   "metadata": {},
   "outputs": [
    {
     "data": {
      "text/html": [
       "<div>\n",
       "<style scoped>\n",
       "    .dataframe tbody tr th:only-of-type {\n",
       "        vertical-align: middle;\n",
       "    }\n",
       "\n",
       "    .dataframe tbody tr th {\n",
       "        vertical-align: top;\n",
       "    }\n",
       "\n",
       "    .dataframe thead th {\n",
       "        text-align: right;\n",
       "    }\n",
       "</style>\n",
       "<table border=\"1\" class=\"dataframe\">\n",
       "  <thead>\n",
       "    <tr style=\"text-align: right;\">\n",
       "      <th></th>\n",
       "      <th>price</th>\n",
       "      <th>rank</th>\n",
       "      <th>polynom 1 pred</th>\n",
       "      <th>polynom 2 pred</th>\n",
       "      <th>polynom 3 pred</th>\n",
       "      <th>polynom 4 pred</th>\n",
       "      <th>polynom 5 pred</th>\n",
       "      <th>polynom 6 pred</th>\n",
       "      <th>polynom 7 pred</th>\n",
       "      <th>polynom 8 pred</th>\n",
       "    </tr>\n",
       "  </thead>\n",
       "  <tbody>\n",
       "    <tr>\n",
       "      <th>0</th>\n",
       "      <td>2</td>\n",
       "      <td>7493.0</td>\n",
       "      <td>24275.707780</td>\n",
       "      <td>79134.929592</td>\n",
       "      <td>72061.543701</td>\n",
       "      <td>8485.101098</td>\n",
       "      <td>-18246.073353</td>\n",
       "      <td>-976.987828</td>\n",
       "      <td>16462.693073</td>\n",
       "      <td>8466.325653</td>\n",
       "    </tr>\n",
       "    <tr>\n",
       "      <th>1</th>\n",
       "      <td>3</td>\n",
       "      <td>45263.0</td>\n",
       "      <td>26497.189409</td>\n",
       "      <td>74316.044404</td>\n",
       "      <td>69097.173181</td>\n",
       "      <td>32799.136786</td>\n",
       "      <td>23255.394207</td>\n",
       "      <td>24882.816158</td>\n",
       "      <td>21408.653451</td>\n",
       "      <td>25718.180858</td>\n",
       "    </tr>\n",
       "    <tr>\n",
       "      <th>2</th>\n",
       "      <td>4</td>\n",
       "      <td>43795.0</td>\n",
       "      <td>28718.671038</td>\n",
       "      <td>69800.792948</td>\n",
       "      <td>66229.993234</td>\n",
       "      <td>51818.539204</td>\n",
       "      <td>54200.280341</td>\n",
       "      <td>47080.810625</td>\n",
       "      <td>35056.189933</td>\n",
       "      <td>42267.074100</td>\n",
       "    </tr>\n",
       "  </tbody>\n",
       "</table>\n",
       "</div>"
      ],
      "text/plain": [
       "   price     rank  polynom 1 pred  polynom 2 pred  polynom 3 pred  \\\n",
       "0      2   7493.0    24275.707780    79134.929592    72061.543701   \n",
       "1      3  45263.0    26497.189409    74316.044404    69097.173181   \n",
       "2      4  43795.0    28718.671038    69800.792948    66229.993234   \n",
       "\n",
       "   polynom 4 pred  polynom 5 pred  polynom 6 pred  polynom 7 pred  \\\n",
       "0     8485.101098   -18246.073353     -976.987828    16462.693073   \n",
       "1    32799.136786    23255.394207    24882.816158    21408.653451   \n",
       "2    51818.539204    54200.280341    47080.810625    35056.189933   \n",
       "\n",
       "   polynom 8 pred  \n",
       "0     8466.325653  \n",
       "1    25718.180858  \n",
       "2    42267.074100  "
      ]
     },
     "execution_count": 6,
     "metadata": {},
     "output_type": "execute_result"
    }
   ],
   "source": [
    "degrees = range(1, 9)\n",
    "\n",
    "for deg in degrees:\n",
    "    coefficients = np.polyfit(price_rank_df[\"price\"], price_rank_df[\"rank\"], deg)\n",
    "    polynom_fn = np.poly1d(coefficients)\n",
    "    price_rank_df[f\"polynom {deg} pred\"] = polynom_fn(price_rank_df[\"price\"])\n",
    "\n",
    "price_rank_df.head(3)"
   ]
  },
  {
   "cell_type": "code",
   "execution_count": 14,
   "id": "regular-breath",
   "metadata": {},
   "outputs": [
    {
     "data": {
      "application/vnd.vegalite.v4+json": {
       "$schema": "https://vega.github.io/schema/vega-lite/v4.8.1.json",
       "columns": 3,
       "concat": [
        {
         "layer": [
          {
           "encoding": {
            "x": {
             "field": "price",
             "scale": {
              "zero": false
             },
             "type": "quantitative"
            },
            "y": {
             "field": "value",
             "scale": {
              "zero": false
             },
             "type": "quantitative"
            }
           },
           "mark": "point",
           "transform": [
            {
             "filter": {
              "equal": "rank",
              "field": "variable"
             }
            }
           ]
          },
          {
           "encoding": {
            "x": {
             "field": "price",
             "scale": {
              "zero": false
             },
             "type": "quantitative"
            },
            "y": {
             "field": "value",
             "scale": {
              "zero": false
             },
             "type": "quantitative"
            }
           },
           "mark": "line",
           "title": "1-degree polynomial",
           "transform": [
            {
             "filter": {
              "equal": "polynom 1 pred",
              "field": "variable"
             }
            }
           ]
          }
         ]
        },
        {
         "layer": [
          {
           "encoding": {
            "x": {
             "field": "price",
             "scale": {
              "zero": false
             },
             "type": "quantitative"
            },
            "y": {
             "field": "value",
             "scale": {
              "zero": false
             },
             "type": "quantitative"
            }
           },
           "mark": "point",
           "transform": [
            {
             "filter": {
              "equal": "rank",
              "field": "variable"
             }
            }
           ]
          },
          {
           "encoding": {
            "x": {
             "field": "price",
             "scale": {
              "zero": false
             },
             "type": "quantitative"
            },
            "y": {
             "field": "value",
             "scale": {
              "zero": false
             },
             "type": "quantitative"
            }
           },
           "mark": "line",
           "title": "2-degree polynomial",
           "transform": [
            {
             "filter": {
              "equal": "polynom 2 pred",
              "field": "variable"
             }
            }
           ]
          }
         ]
        },
        {
         "layer": [
          {
           "encoding": {
            "x": {
             "field": "price",
             "scale": {
              "zero": false
             },
             "type": "quantitative"
            },
            "y": {
             "field": "value",
             "scale": {
              "zero": false
             },
             "type": "quantitative"
            }
           },
           "mark": "point",
           "transform": [
            {
             "filter": {
              "equal": "rank",
              "field": "variable"
             }
            }
           ]
          },
          {
           "encoding": {
            "x": {
             "field": "price",
             "scale": {
              "zero": false
             },
             "type": "quantitative"
            },
            "y": {
             "field": "value",
             "scale": {
              "zero": false
             },
             "type": "quantitative"
            }
           },
           "mark": "line",
           "title": "3-degree polynomial",
           "transform": [
            {
             "filter": {
              "equal": "polynom 3 pred",
              "field": "variable"
             }
            }
           ]
          }
         ]
        },
        {
         "layer": [
          {
           "encoding": {
            "x": {
             "field": "price",
             "scale": {
              "zero": false
             },
             "type": "quantitative"
            },
            "y": {
             "field": "value",
             "scale": {
              "zero": false
             },
             "type": "quantitative"
            }
           },
           "mark": "point",
           "transform": [
            {
             "filter": {
              "equal": "rank",
              "field": "variable"
             }
            }
           ]
          },
          {
           "encoding": {
            "x": {
             "field": "price",
             "scale": {
              "zero": false
             },
             "type": "quantitative"
            },
            "y": {
             "field": "value",
             "scale": {
              "zero": false
             },
             "type": "quantitative"
            }
           },
           "mark": "line",
           "title": "4-degree polynomial",
           "transform": [
            {
             "filter": {
              "equal": "polynom 4 pred",
              "field": "variable"
             }
            }
           ]
          }
         ]
        },
        {
         "layer": [
          {
           "encoding": {
            "x": {
             "field": "price",
             "scale": {
              "zero": false
             },
             "type": "quantitative"
            },
            "y": {
             "field": "value",
             "scale": {
              "zero": false
             },
             "type": "quantitative"
            }
           },
           "mark": "point",
           "transform": [
            {
             "filter": {
              "equal": "rank",
              "field": "variable"
             }
            }
           ]
          },
          {
           "encoding": {
            "x": {
             "field": "price",
             "scale": {
              "zero": false
             },
             "type": "quantitative"
            },
            "y": {
             "field": "value",
             "scale": {
              "zero": false
             },
             "type": "quantitative"
            }
           },
           "mark": "line",
           "title": "5-degree polynomial",
           "transform": [
            {
             "filter": {
              "equal": "polynom 5 pred",
              "field": "variable"
             }
            }
           ]
          }
         ]
        },
        {
         "layer": [
          {
           "encoding": {
            "x": {
             "field": "price",
             "scale": {
              "zero": false
             },
             "type": "quantitative"
            },
            "y": {
             "field": "value",
             "scale": {
              "zero": false
             },
             "type": "quantitative"
            }
           },
           "mark": "point",
           "transform": [
            {
             "filter": {
              "equal": "rank",
              "field": "variable"
             }
            }
           ]
          },
          {
           "encoding": {
            "x": {
             "field": "price",
             "scale": {
              "zero": false
             },
             "type": "quantitative"
            },
            "y": {
             "field": "value",
             "scale": {
              "zero": false
             },
             "type": "quantitative"
            }
           },
           "mark": "line",
           "title": "6-degree polynomial",
           "transform": [
            {
             "filter": {
              "equal": "polynom 6 pred",
              "field": "variable"
             }
            }
           ]
          }
         ]
        },
        {
         "layer": [
          {
           "encoding": {
            "x": {
             "field": "price",
             "scale": {
              "zero": false
             },
             "type": "quantitative"
            },
            "y": {
             "field": "value",
             "scale": {
              "zero": false
             },
             "type": "quantitative"
            }
           },
           "mark": "point",
           "transform": [
            {
             "filter": {
              "equal": "rank",
              "field": "variable"
             }
            }
           ]
          },
          {
           "encoding": {
            "x": {
             "field": "price",
             "scale": {
              "zero": false
             },
             "type": "quantitative"
            },
            "y": {
             "field": "value",
             "scale": {
              "zero": false
             },
             "type": "quantitative"
            }
           },
           "mark": "line",
           "title": "7-degree polynomial",
           "transform": [
            {
             "filter": {
              "equal": "polynom 7 pred",
              "field": "variable"
             }
            }
           ]
          }
         ]
        },
        {
         "layer": [
          {
           "encoding": {
            "x": {
             "field": "price",
             "scale": {
              "zero": false
             },
             "type": "quantitative"
            },
            "y": {
             "field": "value",
             "scale": {
              "zero": false
             },
             "type": "quantitative"
            }
           },
           "mark": "point",
           "transform": [
            {
             "filter": {
              "equal": "rank",
              "field": "variable"
             }
            }
           ]
          },
          {
           "encoding": {
            "x": {
             "field": "price",
             "scale": {
              "zero": false
             },
             "type": "quantitative"
            },
            "y": {
             "field": "value",
             "scale": {
              "zero": false
             },
             "type": "quantitative"
            }
           },
           "mark": "line",
           "title": "8-degree polynomial",
           "transform": [
            {
             "filter": {
              "equal": "polynom 8 pred",
              "field": "variable"
             }
            }
           ]
          }
         ]
        }
       ],
       "config": {
        "axis": {
         "labelFontSize": 14,
         "titleFontSize": 14
        },
        "title": {
         "fontSize": 20
        },
        "view": {
         "continuousHeight": 300,
         "continuousWidth": 400
        }
       },
       "data": {
        "name": "data-dd0c7da45baa31a9c75b8b8e2320973f"
       },
       "datasets": {
        "data-dd0c7da45baa31a9c75b8b8e2320973f": [
         {
          "price": 2,
          "value": 7493,
          "variable": "rank"
         },
         {
          "price": 3,
          "value": 45263,
          "variable": "rank"
         },
         {
          "price": 4,
          "value": 43795,
          "variable": "rank"
         },
         {
          "price": 5,
          "value": 27016.2,
          "variable": "rank"
         },
         {
          "price": 6,
          "value": 32113.000000000007,
          "variable": "rank"
         },
         {
          "price": 7,
          "value": 68654.20000000001,
          "variable": "rank"
         },
         {
          "price": 8,
          "value": 174219,
          "variable": "rank"
         },
         {
          "price": 9,
          "value": 82435,
          "variable": "rank"
         },
         {
          "price": 10,
          "value": 96969.60000000002,
          "variable": "rank"
         },
         {
          "price": 11,
          "value": 176899.0000000001,
          "variable": "rank"
         },
         {
          "price": 12,
          "value": 129354.40000000002,
          "variable": "rank"
         },
         {
          "price": 13,
          "value": 22231,
          "variable": "rank"
         },
         {
          "price": 14,
          "value": 3295.600000000003,
          "variable": "rank"
         },
         {
          "price": 15,
          "value": 28652.400000000016,
          "variable": "rank"
         },
         {
          "price": 16,
          "value": 58226.60000000001,
          "variable": "rank"
         },
         {
          "price": 17,
          "value": 29443.40000000001,
          "variable": "rank"
         },
         {
          "price": 18,
          "value": 37020.80000000005,
          "variable": "rank"
         },
         {
          "price": 19,
          "value": 13049.000000000002,
          "variable": "rank"
         },
         {
          "price": 20,
          "value": 21912.200000000008,
          "variable": "rank"
         },
         {
          "price": 21,
          "value": 50421.00000000001,
          "variable": "rank"
         },
         {
          "price": 22,
          "value": 2435.6,
          "variable": "rank"
         },
         {
          "price": 23,
          "value": 2441.8,
          "variable": "rank"
         },
         {
          "price": 24,
          "value": 2468,
          "variable": "rank"
         },
         {
          "price": 25,
          "value": 15735.600000000006,
          "variable": "rank"
         },
         {
          "price": 26,
          "value": 2423.6,
          "variable": "rank"
         },
         {
          "price": 27,
          "value": 2434.6000000000004,
          "variable": "rank"
         },
         {
          "price": 28,
          "value": 2349.2,
          "variable": "rank"
         },
         {
          "price": 29,
          "value": 7755.2,
          "variable": "rank"
         },
         {
          "price": 30,
          "value": 82528.80000000002,
          "variable": "rank"
         },
         {
          "price": 31,
          "value": 94913.6,
          "variable": "rank"
         },
         {
          "price": 33,
          "value": 33644.00000000001,
          "variable": "rank"
         },
         {
          "price": 34,
          "value": 62584.200000000026,
          "variable": "rank"
         },
         {
          "price": 35,
          "value": 246808,
          "variable": "rank"
         },
         {
          "price": 39,
          "value": 218458.2,
          "variable": "rank"
         },
         {
          "price": 40,
          "value": 76215,
          "variable": "rank"
         },
         {
          "price": 41,
          "value": 90702,
          "variable": "rank"
         },
         {
          "price": 42,
          "value": 102728.8,
          "variable": "rank"
         },
         {
          "price": 43,
          "value": 141620,
          "variable": "rank"
         },
         {
          "price": 44,
          "value": 162861.4,
          "variable": "rank"
         },
         {
          "price": 45,
          "value": 157731,
          "variable": "rank"
         },
         {
          "price": 46,
          "value": 148976.4,
          "variable": "rank"
         },
         {
          "price": 47,
          "value": 159033,
          "variable": "rank"
         },
         {
          "price": 48,
          "value": 196730,
          "variable": "rank"
         },
         {
          "price": 49,
          "value": 112021,
          "variable": "rank"
         },
         {
          "price": 2,
          "value": 24275.70778023282,
          "variable": "polynom 1 pred"
         },
         {
          "price": 3,
          "value": 26497.189409306087,
          "variable": "polynom 1 pred"
         },
         {
          "price": 4,
          "value": 28718.671038379354,
          "variable": "polynom 1 pred"
         },
         {
          "price": 5,
          "value": 30940.152667452625,
          "variable": "polynom 1 pred"
         },
         {
          "price": 6,
          "value": 33161.634296525895,
          "variable": "polynom 1 pred"
         },
         {
          "price": 7,
          "value": 35383.11592559916,
          "variable": "polynom 1 pred"
         },
         {
          "price": 8,
          "value": 37604.59755467243,
          "variable": "polynom 1 pred"
         },
         {
          "price": 9,
          "value": 39826.07918374569,
          "variable": "polynom 1 pred"
         },
         {
          "price": 10,
          "value": 42047.56081281896,
          "variable": "polynom 1 pred"
         },
         {
          "price": 11,
          "value": 44269.042441892234,
          "variable": "polynom 1 pred"
         },
         {
          "price": 12,
          "value": 46490.524070965505,
          "variable": "polynom 1 pred"
         },
         {
          "price": 13,
          "value": 48712.005700038775,
          "variable": "polynom 1 pred"
         },
         {
          "price": 14,
          "value": 50933.48732911204,
          "variable": "polynom 1 pred"
         },
         {
          "price": 15,
          "value": 53154.9689581853,
          "variable": "polynom 1 pred"
         },
         {
          "price": 16,
          "value": 55376.45058725857,
          "variable": "polynom 1 pred"
         },
         {
          "price": 17,
          "value": 57597.93221633184,
          "variable": "polynom 1 pred"
         },
         {
          "price": 18,
          "value": 59819.41384540511,
          "variable": "polynom 1 pred"
         },
         {
          "price": 19,
          "value": 62040.895474478384,
          "variable": "polynom 1 pred"
         },
         {
          "price": 20,
          "value": 64262.377103551655,
          "variable": "polynom 1 pred"
         },
         {
          "price": 21,
          "value": 66483.85873262491,
          "variable": "polynom 1 pred"
         },
         {
          "price": 22,
          "value": 68705.34036169818,
          "variable": "polynom 1 pred"
         },
         {
          "price": 23,
          "value": 70926.82199077145,
          "variable": "polynom 1 pred"
         },
         {
          "price": 24,
          "value": 73148.30361984472,
          "variable": "polynom 1 pred"
         },
         {
          "price": 25,
          "value": 75369.785248918,
          "variable": "polynom 1 pred"
         },
         {
          "price": 26,
          "value": 77591.26687799126,
          "variable": "polynom 1 pred"
         },
         {
          "price": 27,
          "value": 79812.74850706453,
          "variable": "polynom 1 pred"
         },
         {
          "price": 28,
          "value": 82034.23013613779,
          "variable": "polynom 1 pred"
         },
         {
          "price": 29,
          "value": 84255.71176521106,
          "variable": "polynom 1 pred"
         },
         {
          "price": 30,
          "value": 86477.19339428433,
          "variable": "polynom 1 pred"
         },
         {
          "price": 31,
          "value": 88698.6750233576,
          "variable": "polynom 1 pred"
         },
         {
          "price": 33,
          "value": 93141.63828150414,
          "variable": "polynom 1 pred"
         },
         {
          "price": 34,
          "value": 95363.11991057741,
          "variable": "polynom 1 pred"
         },
         {
          "price": 35,
          "value": 97584.60153965068,
          "variable": "polynom 1 pred"
         },
         {
          "price": 39,
          "value": 106470.52805594375,
          "variable": "polynom 1 pred"
         },
         {
          "price": 40,
          "value": 108692.00968501702,
          "variable": "polynom 1 pred"
         },
         {
          "price": 41,
          "value": 110913.4913140903,
          "variable": "polynom 1 pred"
         },
         {
          "price": 42,
          "value": 113134.97294316355,
          "variable": "polynom 1 pred"
         },
         {
          "price": 43,
          "value": 115356.45457223682,
          "variable": "polynom 1 pred"
         },
         {
          "price": 44,
          "value": 117577.93620131009,
          "variable": "polynom 1 pred"
         },
         {
          "price": 45,
          "value": 119799.41783038336,
          "variable": "polynom 1 pred"
         },
         {
          "price": 46,
          "value": 122020.89945945663,
          "variable": "polynom 1 pred"
         },
         {
          "price": 47,
          "value": 124242.3810885299,
          "variable": "polynom 1 pred"
         },
         {
          "price": 48,
          "value": 126463.86271760316,
          "variable": "polynom 1 pred"
         },
         {
          "price": 49,
          "value": 128685.34434667643,
          "variable": "polynom 1 pred"
         },
         {
          "price": 2,
          "value": 79134.92959153243,
          "variable": "polynom 2 pred"
         },
         {
          "price": 3,
          "value": 74316.04440425691,
          "variable": "polynom 2 pred"
         },
         {
          "price": 4,
          "value": 69800.79294759082,
          "variable": "polynom 2 pred"
         },
         {
          "price": 5,
          "value": 65589.17522153415,
          "variable": "polynom 2 pred"
         },
         {
          "price": 6,
          "value": 61681.19122608693,
          "variable": "polynom 2 pred"
         },
         {
          "price": 7,
          "value": 58076.84096124912,
          "variable": "polynom 2 pred"
         },
         {
          "price": 8,
          "value": 54776.12442702075,
          "variable": "polynom 2 pred"
         },
         {
          "price": 9,
          "value": 51779.04162340182,
          "variable": "polynom 2 pred"
         },
         {
          "price": 10,
          "value": 49085.592550392306,
          "variable": "polynom 2 pred"
         },
         {
          "price": 11,
          "value": 46695.77720799223,
          "variable": "polynom 2 pred"
         },
         {
          "price": 12,
          "value": 44609.59559620159,
          "variable": "polynom 2 pred"
         },
         {
          "price": 13,
          "value": 42827.047715020366,
          "variable": "polynom 2 pred"
         },
         {
          "price": 14,
          "value": 41348.13356444858,
          "variable": "polynom 2 pred"
         },
         {
          "price": 15,
          "value": 40172.85314448623,
          "variable": "polynom 2 pred"
         },
         {
          "price": 16,
          "value": 39301.20645513331,
          "variable": "polynom 2 pred"
         },
         {
          "price": 17,
          "value": 38733.19349638982,
          "variable": "polynom 2 pred"
         },
         {
          "price": 18,
          "value": 38468.81426825576,
          "variable": "polynom 2 pred"
         },
         {
          "price": 19,
          "value": 38508.06877073112,
          "variable": "polynom 2 pred"
         },
         {
          "price": 20,
          "value": 38850.95700381593,
          "variable": "polynom 2 pred"
         },
         {
          "price": 21,
          "value": 39497.47896751016,
          "variable": "polynom 2 pred"
         },
         {
          "price": 22,
          "value": 40447.63466181382,
          "variable": "polynom 2 pred"
         },
         {
          "price": 23,
          "value": 41701.42408672692,
          "variable": "polynom 2 pred"
         },
         {
          "price": 24,
          "value": 43258.847242249445,
          "variable": "polynom 2 pred"
         },
         {
          "price": 25,
          "value": 45119.90412838139,
          "variable": "polynom 2 pred"
         },
         {
          "price": 26,
          "value": 47284.59474512278,
          "variable": "polynom 2 pred"
         },
         {
          "price": 27,
          "value": 49752.919092473596,
          "variable": "polynom 2 pred"
         },
         {
          "price": 28,
          "value": 52524.877170433836,
          "variable": "polynom 2 pred"
         },
         {
          "price": 29,
          "value": 55600.46897900353,
          "variable": "polynom 2 pred"
         },
         {
          "price": 30,
          "value": 58979.69451818263,
          "variable": "polynom 2 pred"
         },
         {
          "price": 31,
          "value": 62662.553787971185,
          "variable": "polynom 2 pred"
         },
         {
          "price": 33,
          "value": 70939.17351937653,
          "variable": "polynom 2 pred"
         },
         {
          "price": 34,
          "value": 75532.93398099339,
          "variable": "polynom 2 pred"
         },
         {
          "price": 35,
          "value": 80430.32817321963,
          "variable": "polynom 2 pred"
         },
         {
          "price": 39,
          "value": 103056.24224821902,
          "variable": "polynom 2 pred"
         },
         {
          "price": 40,
          "value": 109471.80509349241,
          "variable": "polynom 2 pred"
         },
         {
          "price": 41,
          "value": 116191.00166937528,
          "variable": "polynom 2 pred"
         },
         {
          "price": 42,
          "value": 123213.83197586755,
          "variable": "polynom 2 pred"
         },
         {
          "price": 43,
          "value": 130540.29601296925,
          "variable": "polynom 2 pred"
         },
         {
          "price": 44,
          "value": 138170.39378068043,
          "variable": "polynom 2 pred"
         },
         {
          "price": 45,
          "value": 146104.12527900096,
          "variable": "polynom 2 pred"
         },
         {
          "price": 46,
          "value": 154341.49050793098,
          "variable": "polynom 2 pred"
         },
         {
          "price": 47,
          "value": 162882.4894674704,
          "variable": "polynom 2 pred"
         },
         {
          "price": 48,
          "value": 171727.1221576193,
          "variable": "polynom 2 pred"
         },
         {
          "price": 49,
          "value": 180875.3885783776,
          "variable": "polynom 2 pred"
         },
         {
          "price": 2,
          "value": 72061.5437005838,
          "variable": "polynom 3 pred"
         },
         {
          "price": 3,
          "value": 69097.17318124505,
          "variable": "polynom 3 pred"
         },
         {
          "price": 4,
          "value": 66229.99323443732,
          "variable": "polynom 3 pred"
         },
         {
          "price": 5,
          "value": 63469.26237501846,
          "variable": "polynom 3 pred"
         },
         {
          "price": 6,
          "value": 60824.23911784625,
          "variable": "polynom 3 pred"
         },
         {
          "price": 7,
          "value": 58304.18197777852,
          "variable": "polynom 3 pred"
         },
         {
          "price": 8,
          "value": 55918.34946967309,
          "variable": "polynom 3 pred"
         },
         {
          "price": 9,
          "value": 53676.00010838776,
          "variable": "polynom 3 pred"
         },
         {
          "price": 10,
          "value": 51586.39240878035,
          "variable": "polynom 3 pred"
         },
         {
          "price": 11,
          "value": 49658.78488570867,
          "variable": "polynom 3 pred"
         },
         {
          "price": 12,
          "value": 47902.43605403054,
          "variable": "polynom 3 pred"
         },
         {
          "price": 13,
          "value": 46326.60442860377,
          "variable": "polynom 3 pred"
         },
         {
          "price": 14,
          "value": 44940.548524286176,
          "variable": "polynom 3 pred"
         },
         {
          "price": 15,
          "value": 43753.52685593556,
          "variable": "polynom 3 pred"
         },
         {
          "price": 16,
          "value": 42774.797938409756,
          "variable": "polynom 3 pred"
         },
         {
          "price": 17,
          "value": 42013.62028656656,
          "variable": "polynom 3 pred"
         },
         {
          "price": 18,
          "value": 41479.25241526379,
          "variable": "polynom 3 pred"
         },
         {
          "price": 19,
          "value": 41180.95283935926,
          "variable": "polynom 3 pred"
         },
         {
          "price": 20,
          "value": 41127.98007371079,
          "variable": "polynom 3 pred"
         },
         {
          "price": 21,
          "value": 41329.59263317618,
          "variable": "polynom 3 pred"
         },
         {
          "price": 22,
          "value": 41795.04903261327,
          "variable": "polynom 3 pred"
         },
         {
          "price": 23,
          "value": 42533.60778687984,
          "variable": "polynom 3 pred"
         },
         {
          "price": 24,
          "value": 43554.52741083372,
          "variable": "polynom 3 pred"
         },
         {
          "price": 25,
          "value": 44867.06641933273,
          "variable": "polynom 3 pred"
         },
         {
          "price": 26,
          "value": 46480.48332723467,
          "variable": "polynom 3 pred"
         },
         {
          "price": 27,
          "value": 48404.03664939735,
          "variable": "polynom 3 pred"
         },
         {
          "price": 28,
          "value": 50646.98490067862,
          "variable": "polynom 3 pred"
         },
         {
          "price": 29,
          "value": 53218.58659593624,
          "variable": "polynom 3 pred"
         },
         {
          "price": 30,
          "value": 56128.10025002806,
          "variable": "polynom 3 pred"
         },
         {
          "price": 31,
          "value": 59384.7843778119,
          "variable": "polynom 3 pred"
         },
         {
          "price": 33,
          "value": 66976.69811388681,
          "variable": "polynom 3 pred"
         },
         {
          "price": 34,
          "value": 71330.44475189353,
          "variable": "polynom 3 pred"
         },
         {
          "price": 35,
          "value": 76068.39592302352,
          "variable": "polynom 3 pred"
         },
         {
          "price": 39,
          "value": 99047.41623593227,
          "variable": "polynom 3 pred"
         },
         {
          "price": 40,
          "value": 105845.26779554578,
          "variable": "polynom 3 pred"
         },
         {
          "price": 41,
          "value": 113082.87497742935,
          "variable": "polynom 3 pred"
         },
         {
          "price": 42,
          "value": 120769.49629644092,
          "variable": "polynom 3 pred"
         },
         {
          "price": 43,
          "value": 128914.39026743827,
          "variable": "polynom 3 pred"
         },
         {
          "price": 44,
          "value": 137526.8154052792,
          "variable": "polynom 3 pred"
         },
         {
          "price": 45,
          "value": 146616.03022482147,
          "variable": "polynom 3 pred"
         },
         {
          "price": 46,
          "value": 156191.293240923,
          "variable": "polynom 3 pred"
         },
         {
          "price": 47,
          "value": 166261.8629684415,
          "variable": "polynom 3 pred"
         },
         {
          "price": 48,
          "value": 176836.9979222349,
          "variable": "polynom 3 pred"
         },
         {
          "price": 49,
          "value": 187925.95661716093,
          "variable": "polynom 3 pred"
         },
         {
          "price": 2,
          "value": 8485.101098338302,
          "variable": "polynom 4 pred"
         },
         {
          "price": 3,
          "value": 32799.13678634673,
          "variable": "polynom 4 pred"
         },
         {
          "price": 4,
          "value": 51818.53920449925,
          "variable": "polynom 4 pred"
         },
         {
          "price": 5,
          "value": 66117.84182907999,
          "variable": "polynom 4 pred"
         },
         {
          "price": 6,
          "value": 76245.65838876003,
          "variable": "polynom 4 pred"
         },
         {
          "price": 7,
          "value": 82724.68286459733,
          "variable": "polynom 4 pred"
         },
         {
          "price": 8,
          "value": 86051.68949003675,
          "variable": "polynom 4 pred"
         },
         {
          "price": 9,
          "value": 86697.53275091015,
          "variable": "polynom 4 pred"
         },
         {
          "price": 10,
          "value": 85107.14738543626,
          "variable": "polynom 4 pred"
         },
         {
          "price": 11,
          "value": 81699.5483842206,
          "variable": "polynom 4 pred"
         },
         {
          "price": 12,
          "value": 76867.83099025601,
          "variable": "polynom 4 pred"
         },
         {
          "price": 13,
          "value": 70979.17069892163,
          "variable": "polynom 4 pred"
         },
         {
          "price": 14,
          "value": 64374.82325798398,
          "variable": "polynom 4 pred"
         },
         {
          "price": 15,
          "value": 57370.12466759645,
          "variable": "polynom 4 pred"
         },
         {
          "price": 16,
          "value": 50254.49118029923,
          "variable": "polynom 4 pred"
         },
         {
          "price": 17,
          "value": 43291.419301019225,
          "variable": "polynom 4 pred"
         },
         {
          "price": 18,
          "value": 36718.485787070764,
          "variable": "polynom 4 pred"
         },
         {
          "price": 19,
          "value": 30747.347648154682,
          "variable": "polynom 4 pred"
         },
         {
          "price": 20,
          "value": 25563.742146358913,
          "variable": "polynom 4 pred"
         },
         {
          "price": 21,
          "value": 21327.48679615825,
          "variable": "polynom 4 pred"
         },
         {
          "price": 22,
          "value": 18172.479364414467,
          "variable": "polynom 4 pred"
         },
         {
          "price": 23,
          "value": 16206.69787037604,
          "variable": "polynom 4 pred"
         },
         {
          "price": 24,
          "value": 15512.20058567854,
          "variable": "polynom 4 pred"
         },
         {
          "price": 25,
          "value": 16145.126034344634,
          "variable": "polynom 4 pred"
         },
         {
          "price": 26,
          "value": 18135.69299278356,
          "variable": "polynom 4 pred"
         },
         {
          "price": 27,
          "value": 21488.200489791052,
          "variable": "polynom 4 pred"
         },
         {
          "price": 28,
          "value": 26181.027806551312,
          "variable": "polynom 4 pred"
         },
         {
          "price": 29,
          "value": 32166.63447663412,
          "variable": "polynom 4 pred"
         },
         {
          "price": 30,
          "value": 39371.56028599637,
          "variable": "polynom 4 pred"
         },
         {
          "price": 31,
          "value": 47696.425272982015,
          "variable": "polynom 4 pred"
         },
         {
          "price": 33,
          "value": 67178.85419513387,
          "variable": "polynom 4 pred"
         },
         {
          "price": 34,
          "value": 78008.05946892264,
          "variable": "polynom 4 pred"
         },
         {
          "price": 35,
          "value": 89300.48659757967,
          "variable": "polynom 4 pred"
         },
         {
          "price": 39,
          "value": 134134.04345226655,
          "variable": "polynom 4 pred"
         },
         {
          "price": 40,
          "value": 143789.5044071829,
          "variable": "polynom 4 pred"
         },
         {
          "price": 41,
          "value": 152145.51880444188,
          "variable": "polynom 4 pred"
         },
         {
          "price": 42,
          "value": 158817.5894586442,
          "variable": "polynom 4 pred"
         },
         {
          "price": 43,
          "value": 163395.29943677736,
          "variable": "polynom 4 pred"
         },
         {
          "price": 44,
          "value": 165442.31205821288,
          "variable": "polynom 4 pred"
         },
         {
          "price": 45,
          "value": 164496.3708947153,
          "variable": "polynom 4 pred"
         },
         {
          "price": 46,
          "value": 160069.29977042924,
          "variable": "polynom 4 pred"
         },
         {
          "price": 47,
          "value": 151647.00276189123,
          "variable": "polynom 4 pred"
         },
         {
          "price": 48,
          "value": 138689.4641980209,
          "variable": "polynom 4 pred"
         },
         {
          "price": 49,
          "value": 120630.74866012877,
          "variable": "polynom 4 pred"
         },
         {
          "price": 2,
          "value": -18246.07335345722,
          "variable": "polynom 5 pred"
         },
         {
          "price": 3,
          "value": 23255.394206562196,
          "variable": "polynom 5 pred"
         },
         {
          "price": 4,
          "value": 54200.28034083854,
          "variable": "polynom 5 pred"
         },
         {
          "price": 5,
          "value": 76101.74048533969,
          "variable": "polynom 5 pred"
         },
         {
          "price": 6,
          "value": 90351.01348593208,
          "variable": "polynom 5 pred"
         },
         {
          "price": 7,
          "value": 98221.87758582842,
          "variable": "polynom 5 pred"
         },
         {
          "price": 8,
          "value": 100875.10641303513,
          "variable": "polynom 5 pred"
         },
         {
          "price": 9,
          "value": 99362.92496779998,
          "variable": "polynom 5 pred"
         },
         {
          "price": 10,
          "value": 94633.46561006014,
          "variable": "polynom 5 pred"
         },
         {
          "price": 11,
          "value": 87535.22404688894,
          "variable": "polynom 5 pred"
         },
         {
          "price": 12,
          "value": 78821.51531994506,
          "variable": "polynom 5 pred"
         },
         {
          "price": 13,
          "value": 69154.92979291792,
          "variable": "polynom 5 pred"
         },
         {
          "price": 14,
          "value": 59111.78913897759,
          "variable": "polynom 5 pred"
         },
         {
          "price": 15,
          "value": 49186.602328221255,
          "variable": "polynom 5 pred"
         },
         {
          "price": 16,
          "value": 39796.52161512064,
          "variable": "polynom 5 pred"
         },
         {
          "price": 17,
          "value": 31285.79852597037,
          "variable": "polynom 5 pred"
         },
         {
          "price": 18,
          "value": 23930.239846335287,
          "variable": "polynom 5 pred"
         },
         {
          "price": 19,
          "value": 17941.66360849765,
          "variable": "polynom 5 pred"
         },
         {
          "price": 20,
          "value": 13472.35507890582,
          "variable": "polynom 5 pred"
         },
         {
          "price": 21,
          "value": 10619.52274562139,
          "variable": "polynom 5 pred"
         },
         {
          "price": 22,
          "value": 9429.75430576608,
          "variable": "polynom 5 pred"
         },
         {
          "price": 23,
          "value": 9903.472652970144,
          "variable": "polynom 5 pred"
         },
         {
          "price": 24,
          "value": 11999.391864820907,
          "variable": "polynom 5 pred"
         },
         {
          "price": 25,
          "value": 15638.973190308549,
          "variable": "polynom 5 pred"
         },
         {
          "price": 26,
          "value": 20710.881037273823,
          "variable": "polynom 5 pred"
         },
         {
          "price": 27,
          "value": 27075.438959858846,
          "variable": "polynom 5 pred"
         },
         {
          "price": 28,
          "value": 34569.085645949,
          "variable": "polynom 5 pred"
         },
         {
          "price": 29,
          "value": 43008.830904628325,
          "variable": "polynom 5 pred"
         },
         {
          "price": 30,
          "value": 52196.71165361753,
          "variable": "polynom 5 pred"
         },
         {
          "price": 31,
          "value": 61924.24790673208,
          "variable": "polynom 5 pred"
         },
         {
          "price": 33,
          "value": 82138.51838571823,
          "variable": "polynom 5 pred"
         },
         {
          "price": 34,
          "value": 92195.81200669339,
          "variable": "polynom 5 pred"
         },
         {
          "price": 35,
          "value": 101942.79189689318,
          "variable": "polynom 5 pred"
         },
         {
          "price": 39,
          "value": 134213.10150577076,
          "variable": "polynom 5 pred"
         },
         {
          "price": 40,
          "value": 139886.36255894933,
          "variable": "polynom 5 pred"
         },
         {
          "price": 41,
          "value": 144416.3667777913,
          "variable": "polynom 5 pred"
         },
         {
          "price": 42,
          "value": 147773.0434046379,
          "variable": "polynom 5 pred"
         },
         {
          "price": 43,
          "value": 149969.27662729152,
          "variable": "polynom 5 pred"
         },
         {
          "price": 44,
          "value": 151065.36156646663,
          "variable": "polynom 5 pred"
         },
         {
          "price": 45,
          "value": 151173.46026323328,
          "variable": "polynom 5 pred"
         },
         {
          "price": 46,
          "value": 150462.05766646186,
          "variable": "polynom 5 pred"
         },
         {
          "price": 47,
          "value": 149160.4176202825,
          "variable": "polynom 5 pred"
         },
         {
          "price": 48,
          "value": 147563.0388515137,
          "variable": "polynom 5 pred"
         },
         {
          "price": 49,
          "value": 146034.11095713335,
          "variable": "polynom 5 pred"
         },
         {
          "price": 2,
          "value": -976.9878277550233,
          "variable": "polynom 6 pred"
         },
         {
          "price": 3,
          "value": 24882.816157915535,
          "variable": "polynom 6 pred"
         },
         {
          "price": 4,
          "value": 47080.81062467001,
          "variable": "polynom 6 pred"
         },
         {
          "price": 5,
          "value": 65267.37712810818,
          "variable": "polynom 6 pred"
         },
         {
          "price": 6,
          "value": 79292.07909870523,
          "variable": "polynom 6 pred"
         },
         {
          "price": 7,
          "value": 89174.98851465783,
          "variable": "polynom 6 pred"
         },
         {
          "price": 8,
          "value": 95079.59880514664,
          "variable": "polynom 6 pred"
         },
         {
          "price": 9,
          "value": 97287.32398401524,
          "variable": "polynom 6 pred"
         },
         {
          "price": 10,
          "value": 96173.58401386574,
          "variable": "polynom 6 pred"
         },
         {
          "price": 11,
          "value": 92185.47640057062,
          "variable": "polynom 6 pred"
         },
         {
          "price": 12,
          "value": 85821.03401820167,
          "variable": "polynom 6 pred"
         },
         {
          "price": 13,
          "value": 77610.06916437429,
          "variable": "polynom 6 pred"
         },
         {
          "price": 14,
          "value": 68096.60384600968,
          "variable": "polynom 6 pred"
         },
         {
          "price": 15,
          "value": 57822.88629551243,
          "variable": "polynom 6 pred"
         },
         {
          "price": 16,
          "value": 47314.99371736512,
          "variable": "polynom 6 pred"
         },
         {
          "price": 17,
          "value": 37070.0212651392,
          "variable": "polynom 6 pred"
         },
         {
          "price": 18,
          "value": 27544.85724892295,
          "variable": "polynom 6 pred"
         },
         {
          "price": 19,
          "value": 19146.544573164814,
          "variable": "polynom 6 pred"
         },
         {
          "price": 20,
          "value": 12224.228404934045,
          "variable": "polynom 6 pred"
         },
         {
          "price": 21,
          "value": 7062.690072597972,
          "variable": "polynom 6 pred"
         },
         {
          "price": 22,
          "value": 3877.4671949162876,
          "variable": "polynom 6 pred"
         },
         {
          "price": 23,
          "value": 2811.5600405477526,
          "variable": "polynom 6 pred"
         },
         {
          "price": 24,
          "value": 3933.724117980899,
          "variable": "polynom 6 pred"
         },
         {
          "price": 25,
          "value": 7238.348995874992,
          "variable": "polynom 6 pred"
         },
         {
          "price": 26,
          "value": 12646.9233538185,
          "variable": "polynom 6 pred"
         },
         {
          "price": 27,
          "value": 20011.086263507597,
          "variable": "polynom 6 pred"
         },
         {
          "price": 28,
          "value": 29117.264700334992,
          "variable": "polynom 6 pred"
         },
         {
          "price": 29,
          "value": 39692.89728540432,
          "variable": "polynom 6 pred"
         },
         {
          "price": 30,
          "value": 51414.244257949766,
          "variable": "polynom 6 pred"
         },
         {
          "price": 31,
          "value": 63915.78367817912,
          "variable": "polynom 6 pred"
         },
         {
          "price": 33,
          "value": 89655.92203737813,
          "variable": "polynom 6 pred"
         },
         {
          "price": 34,
          "value": 102061.3392530529,
          "variable": "polynom 6 pred"
         },
         {
          "price": 35,
          "value": 113610.48148841772,
          "variable": "polynom 6 pred"
         },
         {
          "price": 39,
          "value": 144528.03934921417,
          "variable": "polynom 6 pred"
         },
         {
          "price": 40,
          "value": 147401.36292174895,
          "variable": "polynom 6 pred"
         },
         {
          "price": 41,
          "value": 148302.95907072426,
          "variable": "polynom 6 pred"
         },
         {
          "price": 42,
          "value": 147481.51317376012,
          "variable": "polynom 6 pred"
         },
         {
          "price": 43,
          "value": 145380.40883605214,
          "variable": "polynom 6 pred"
         },
         {
          "price": 44,
          "value": 142667.74508859823,
          "variable": "polynom 6 pred"
         },
         {
          "price": 45,
          "value": 140267.93981691287,
          "variable": "polynom 6 pred"
         },
         {
          "price": 46,
          "value": 139394.9194200844,
          "variable": "polynom 6 pred"
         },
         {
          "price": 47,
          "value": 141586.8947002896,
          "variable": "polynom 6 pred"
         },
         {
          "price": 48,
          "value": 148742.72298271887,
          "variable": "polynom 6 pred"
         },
         {
          "price": 49,
          "value": 163159.85646590896,
          "variable": "polynom 6 pred"
         },
         {
          "price": 2,
          "value": 16462.69307322691,
          "variable": "polynom 7 pred"
         },
         {
          "price": 3,
          "value": 21408.65345076059,
          "variable": "polynom 7 pred"
         },
         {
          "price": 4,
          "value": 35056.18993252901,
          "variable": "polynom 7 pred"
         },
         {
          "price": 5,
          "value": 52442.206455399624,
          "variable": "polynom 7 pred"
         },
         {
          "price": 6,
          "value": 69964.77520752556,
          "variable": "polynom 7 pred"
         },
         {
          "price": 7,
          "value": 85158.54050592253,
          "variable": "polynom 7 pred"
         },
         {
          "price": 8,
          "value": 96492.04768271558,
          "variable": "polynom 7 pred"
         },
         {
          "price": 9,
          "value": 103185.99965558229,
          "variable": "polynom 7 pred"
         },
         {
          "price": 10,
          "value": 105051.44385792,
          "variable": "polynom 7 pred"
         },
         {
          "price": 11,
          "value": 102346.89220426424,
          "variable": "polynom 7 pred"
         },
         {
          "price": 12,
          "value": 95653.37676648909,
          "variable": "polynom 7 pred"
         },
         {
          "price": 13,
          "value": 85766.44383630932,
          "variable": "polynom 7 pred"
         },
         {
          "price": 14,
          "value": 73604.0890496225,
          "variable": "polynom 7 pred"
         },
         {
          "price": 15,
          "value": 60129.63624820846,
          "variable": "polynom 7 pred"
         },
         {
          "price": 16,
          "value": 46288.56275431807,
          "variable": "polynom 7 pred"
         },
         {
          "price": 17,
          "value": 32958.27373368279,
          "variable": "polynom 7 pred"
         },
         {
          "price": 18,
          "value": 20909.82832246401,
          "variable": "polynom 7 pred"
         },
         {
          "price": 19,
          "value": 10780.620193678376,
          "variable": "polynom 7 pred"
         },
         {
          "price": 20,
          "value": 3057.015238611326,
          "variable": "polynom 7 pred"
         },
         {
          "price": 21,
          "value": -1934.050961223882,
          "variable": "polynom 7 pred"
         },
         {
          "price": 22,
          "value": -4025.5131960877407,
          "variable": "polynom 7 pred"
         },
         {
          "price": 23,
          "value": -3203.651548428883,
          "variable": "polynom 7 pred"
         },
         {
          "price": 24,
          "value": 404.4015037991412,
          "variable": "polynom 7 pred"
         },
         {
          "price": 25,
          "value": 6548.124476490208,
          "variable": "polynom 7 pred"
         },
         {
          "price": 26,
          "value": 14875.043436851898,
          "variable": "polynom 7 pred"
         },
         {
          "price": 27,
          "value": 24955.144404614635,
          "variable": "polynom 7 pred"
         },
         {
          "price": 28,
          "value": 36307.26427243013,
          "variable": "polynom 7 pred"
         },
         {
          "price": 29,
          "value": 48426.462921012775,
          "variable": "polynom 7 pred"
         },
         {
          "price": 30,
          "value": 60811.37920458457,
          "variable": "polynom 7 pred"
         },
         {
          "price": 31,
          "value": 72990.57348207376,
          "variable": "polynom 7 pred"
         },
         {
          "price": 33,
          "value": 95138.62739042325,
          "variable": "polynom 7 pred"
         },
         {
          "price": 34,
          "value": 104517.16319558938,
          "variable": "polynom 7 pred"
         },
         {
          "price": 35,
          "value": 112538.96303482715,
          "variable": "polynom 7 pred"
         },
         {
          "price": 39,
          "value": 132020.85485328585,
          "variable": "polynom 7 pred"
         },
         {
          "price": 40,
          "value": 134811.0875213025,
          "variable": "polynom 7 pred"
         },
         {
          "price": 41,
          "value": 137400.9780567256,
          "variable": "polynom 7 pred"
         },
         {
          "price": 42,
          "value": 140098.66073374517,
          "variable": "polynom 7 pred"
         },
         {
          "price": 43,
          "value": 143116.2261706338,
          "variable": "polynom 7 pred"
         },
         {
          "price": 44,
          "value": 146492.13242915415,
          "variable": "polynom 7 pred"
         },
         {
          "price": 45,
          "value": 149998.64011762364,
          "variable": "polynom 7 pred"
         },
         {
          "price": 46,
          "value": 153033.27417250627,
          "variable": "polynom 7 pred"
         },
         {
          "price": 47,
          "value": 154493.31499377842,
          "variable": "polynom 7 pred"
         },
         {
          "price": 48,
          "value": 152632.32161115826,
          "variable": "polynom 7 pred"
         },
         {
          "price": 49,
          "value": 144897.68955432432,
          "variable": "polynom 7 pred"
         },
         {
          "price": 2,
          "value": 8466.325653122654,
          "variable": "polynom 8 pred"
         },
         {
          "price": 3,
          "value": 25718.180858434313,
          "variable": "polynom 8 pred"
         },
         {
          "price": 4,
          "value": 42267.07409951932,
          "variable": "polynom 8 pred"
         },
         {
          "price": 5,
          "value": 57766.159412615874,
          "variable": "polynom 8 pred"
         },
         {
          "price": 6,
          "value": 71650.76687476078,
          "variable": "polynom 8 pred"
         },
         {
          "price": 7,
          "value": 83296.62664999552,
          "variable": "polynom 8 pred"
         },
         {
          "price": 8,
          "value": 92136.12901340047,
          "variable": "polynom 8 pred"
         },
         {
          "price": 9,
          "value": 97738.30361738014,
          "variable": "polynom 8 pred"
         },
         {
          "price": 10,
          "value": 99857.86739060162,
          "variable": "polynom 8 pred"
         },
         {
          "price": 11,
          "value": 98458.35658596923,
          "variable": "polynom 8 pred"
         },
         {
          "price": 12,
          "value": 93714.02461999498,
          "variable": "polynom 8 pred"
         },
         {
          "price": 13,
          "value": 85994.85347190803,
          "variable": "polynom 8 pred"
         },
         {
          "price": 14,
          "value": 75838.69253682163,
          "variable": "polynom 8 pred"
         },
         {
          "price": 15,
          "value": 63914.20495325845,
          "variable": "polynom 8 pred"
         },
         {
          "price": 16,
          "value": 50977.96755131167,
          "variable": "polynom 8 pred"
         },
         {
          "price": 17,
          "value": 37828.736693705505,
          "variable": "polynom 8 pred"
         },
         {
          "price": 18,
          "value": 25261.558407985856,
          "variable": "polynom 8 pred"
         },
         {
          "price": 19,
          "value": 14024.067334063035,
          "variable": "polynom 8 pred"
         },
         {
          "price": 20,
          "value": 4776.985137309155,
          "variable": "polynom 8 pred"
         },
         {
          "price": 21,
          "value": -1939.5048366228984,
          "variable": "polynom 8 pred"
         },
         {
          "price": 22,
          "value": -5732.163763106913,
          "variable": "polynom 8 pred"
         },
         {
          "price": 23,
          "value": -6372.875367821183,
          "variable": "polynom 8 pred"
         },
         {
          "price": 24,
          "value": -3807.920629894401,
          "variable": "polynom 8 pred"
         },
         {
          "price": 25,
          "value": 1841.9921211562432,
          "variable": "polynom 8 pred"
         },
         {
          "price": 26,
          "value": 10290.949120822832,
          "variable": "polynom 8 pred"
         },
         {
          "price": 27,
          "value": 21105.97862929537,
          "variable": "polynom 8 pred"
         },
         {
          "price": 28,
          "value": 33733.46359363022,
          "variable": "polynom 8 pred"
         },
         {
          "price": 29,
          "value": 47532.8252962283,
          "variable": "polynom 8 pred"
         },
         {
          "price": 30,
          "value": 61816.14989972398,
          "variable": "polynom 8 pred"
         },
         {
          "price": 31,
          "value": 75892.09592431328,
          "variable": "polynom 8 pred"
         },
         {
          "price": 33,
          "value": 100916.4589167569,
          "variable": "polynom 8 pred"
         },
         {
          "price": 34,
          "value": 110877.90118187822,
          "variable": "polynom 8 pred"
         },
         {
          "price": 35,
          "value": 118739.18929860835,
          "variable": "polynom 8 pred"
         },
         {
          "price": 39,
          "value": 131210.3977399114,
          "variable": "polynom 8 pred"
         },
         {
          "price": 40,
          "value": 131848.41284760783,
          "variable": "polynom 8 pred"
         },
         {
          "price": 41,
          "value": 132899.33441982485,
          "variable": "polynom 8 pred"
         },
         {
          "price": 42,
          "value": 135090.1073878473,
          "variable": "polynom 8 pred"
         },
         {
          "price": 43,
          "value": 138944.35854719015,
          "variable": "polynom 8 pred"
         },
         {
          "price": 44,
          "value": 144578.8047497245,
          "variable": "polynom 8 pred"
         },
         {
          "price": 45,
          "value": 151445.61775926253,
          "variable": "polynom 8 pred"
         },
         {
          "price": 46,
          "value": 158014.0756973819,
          "variable": "polynom 8 pred"
         },
         {
          "price": 47,
          "value": 161384.4971290791,
          "variable": "polynom 8 pred"
         },
         {
          "price": 48,
          "value": 156827.11996825735,
          "variable": "polynom 8 pred"
         },
         {
          "price": 49,
          "value": 137238.25350520122,
          "variable": "polynom 8 pred"
         }
        ]
       },
       "resolve": {
        "axis": {
         "x": "shared",
         "y": "shared"
        },
        "scale": {
         "x": "shared",
         "y": "shared"
        }
       }
      },
      "image/png": "[encoded data removed]",
      "text/plain": [
       "<VegaLite 4 object>\n",
       "\n",
       "If you see this message, it means the renderer has not been properly enabled\n",
       "for the frontend that you are using. For more information, see\n",
       "https://altair-viz.github.io/user_guide/troubleshooting.html\n"
      ]
     },
     "execution_count": 14,
     "metadata": {},
     "output_type": "execute_result"
    }
   ],
   "source": [
    "melted_df = pd.melt(price_rank_df, \"price\")\n",
    "\n",
    "points_chart = alt.Chart(melted_df).transform_filter(alt.FieldEqualPredicate(field=\"variable\", equal=\"rank\")) \\\n",
    ".mark_point().encode(\n",
    "    x=alt.X(\"price:Q\", scale=alt.Scale(zero=False)),\n",
    "    y=alt.Y(\"value:Q\", scale=alt.Scale(zero=False))\n",
    ")\n",
    "\n",
    "curve_chart = alt.Chart(melted_df).mark_line().encode(\n",
    "    x=alt.X(\"price:Q\", scale=alt.Scale(zero=False)),\n",
    "    y=alt.Y(\"value:Q\", scale=alt.Scale(zero=False))\n",
    ")\n",
    "\n",
    "alt.ConcatChart(\n",
    "    concat=[\n",
    "      points_chart + curve_chart.transform_filter(alt.FieldEqualPredicate(field=\"variable\", equal=f\"polynom {deg} pred\")).properties(title=f\"{deg}-degree polynomial\")\n",
    "      for deg in degrees\n",
    "    ],\n",
    "    columns=3\n",
    ").resolve_axis(\n",
    "    x=\"shared\",\n",
    "    y=\"shared\"\n",
    ").resolve_scale(\n",
    "    x=\"shared\", \n",
    "    y=\"shared\"\n",
    ").configure_axis(\n",
    "    labelFontSize=14,\n",
    "    titleFontSize=14\n",
    ").configure_title(fontSize=20)"
   ]
  },
  {
   "cell_type": "markdown",
   "id": "universal-entity",
   "metadata": {},
   "source": [
    "### Save coefficients"
   ]
  },
  {
   "cell_type": "code",
   "execution_count": 10,
   "id": "tested-occurrence",
   "metadata": {},
   "outputs": [
    {
     "data": {
      "text/plain": [
       "array([ 6.25934313e-04, -8.52756070e-02,  3.58595300e+00, -2.59940018e+01,\n",
       "       -1.28454995e+03,  2.08376084e+04, -2.38392754e+04])"
      ]
     },
     "execution_count": 10,
     "metadata": {},
     "output_type": "execute_result"
    }
   ],
   "source": [
    "coefficients = np.polyfit(price_rank_df[\"price\"], price_rank_df[\"rank\"], 6)\n",
    "coefficients"
   ]
  },
  {
   "cell_type": "code",
   "execution_count": 11,
   "id": "cathedral-health",
   "metadata": {},
   "outputs": [],
   "source": [
    "np.save(os.path.join(models_path, \"price_rank_curve_coefficients.npy\"), coefficients)"
   ]
  }
 ],
 "metadata": {
  "kernelspec": {
   "display_name": "Python 3",
   "language": "python",
   "name": "python3"
  },
  "language_info": {
   "codemirror_mode": {
    "name": "ipython",
    "version": 3
   },
   "file_extension": ".py",
   "mimetype": "text/x-python",
   "name": "python",
   "nbconvert_exporter": "python",
   "pygments_lexer": "ipython3",
   "version": "3.7.10"
  }
 },
 "nbformat": 4,
 "nbformat_minor": 5
}
