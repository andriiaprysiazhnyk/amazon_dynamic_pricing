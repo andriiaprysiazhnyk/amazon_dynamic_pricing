{
 "cells": [
  {
   "cell_type": "code",
   "execution_count": 1,
   "id": "defensive-detective",
   "metadata": {},
   "outputs": [],
   "source": [
    "import os\n",
    "import yaml\n",
    "import pickle\n",
    "from scipy import stats\n",
    "import numpy as np\n",
    "import pandas as pd\n",
    "import altair as alt\n",
    "\n",
    "from copy import deepcopy\n",
    "from sklearn.linear_model import Lasso, LinearRegression, Ridge, PoissonRegressor\n",
    "from sklearn.ensemble import RandomForestRegressor, GradientBoostingRegressor\n",
    "from sklearn.svm import SVR\n",
    "from sklearn.preprocessing import StandardScaler\n",
    "from sklearn.pipeline import Pipeline\n",
    "from sklearn.model_selection import GridSearchCV\n",
    "from sklearn.metrics import make_scorer\n",
    "\n",
    "np.random.seed(42)\n",
    "alt.data_transformers.disable_max_rows()\n",
    "alt.renderers.enable('mimetype');"
   ]
  },
  {
   "cell_type": "markdown",
   "id": "literary-acrylic",
   "metadata": {},
   "source": [
    "### Prepare Data"
   ]
  },
  {
   "cell_type": "code",
   "execution_count": 2,
   "id": "organized-seeking",
   "metadata": {},
   "outputs": [],
   "source": [
    "with open(\"config.yaml\", \"r\") as config_file:\n",
    "    config = yaml.full_load(config_file)\n",
    "    data_path = config[\"data_path\"]\n",
    "    models_path = config[\"models_path\"]"
   ]
  },
  {
   "cell_type": "code",
   "execution_count": 3,
   "id": "distributed-character",
   "metadata": {},
   "outputs": [
    {
     "data": {
      "text/html": [
       "<div>\n",
       "<style scoped>\n",
       "    .dataframe tbody tr th:only-of-type {\n",
       "        vertical-align: middle;\n",
       "    }\n",
       "\n",
       "    .dataframe tbody tr th {\n",
       "        vertical-align: top;\n",
       "    }\n",
       "\n",
       "    .dataframe thead th {\n",
       "        text-align: right;\n",
       "    }\n",
       "</style>\n",
       "<table border=\"1\" class=\"dataframe\">\n",
       "  <thead>\n",
       "    <tr style=\"text-align: right;\">\n",
       "      <th></th>\n",
       "      <th>dt</th>\n",
       "      <th>inventory</th>\n",
       "      <th>units</th>\n",
       "      <th>adspend</th>\n",
       "      <th>rank</th>\n",
       "    </tr>\n",
       "  </thead>\n",
       "  <tbody>\n",
       "    <tr>\n",
       "      <th>0</th>\n",
       "      <td>2017-09-26</td>\n",
       "      <td>693</td>\n",
       "      <td>36</td>\n",
       "      <td>83.79</td>\n",
       "      <td>51432</td>\n",
       "    </tr>\n",
       "    <tr>\n",
       "      <th>1</th>\n",
       "      <td>2017-09-27</td>\n",
       "      <td>673</td>\n",
       "      <td>34</td>\n",
       "      <td>67.16</td>\n",
       "      <td>48596</td>\n",
       "    </tr>\n",
       "    <tr>\n",
       "      <th>2</th>\n",
       "      <td>2017-09-28</td>\n",
       "      <td>626</td>\n",
       "      <td>33</td>\n",
       "      <td>50.49</td>\n",
       "      <td>43191</td>\n",
       "    </tr>\n",
       "  </tbody>\n",
       "</table>\n",
       "</div>"
      ],
      "text/plain": [
       "          dt  inventory  units  adspend   rank\n",
       "0 2017-09-26        693     36    83.79  51432\n",
       "1 2017-09-27        673     34    67.16  48596\n",
       "2 2017-09-28        626     33    50.49  43191"
      ]
     },
     "execution_count": 3,
     "metadata": {},
     "output_type": "execute_result"
    }
   ],
   "source": [
    "sales_df = pd.read_csv(os.path.join(data_path, \"preprocessed_data.csv\"))\n",
    "sales_df[\"dt\"] = pd.to_datetime(sales_df[\"dt\"])\n",
    "sales_df.head(3)"
   ]
  },
  {
   "cell_type": "code",
   "execution_count": 4,
   "id": "supported-might",
   "metadata": {},
   "outputs": [],
   "source": [
    "def create_lag_df(ts, lags, zero_lag=True):\n",
    "    df = pd.DataFrame({f\"{ts.name}_lag0\": ts})\n",
    "    \n",
    "    for lag in range(1, lags + 1):\n",
    "        df[f\"{ts.name}_lag{lag}\"] = ts.shift(lag)\n",
    "    \n",
    "    if not zero_lag:\n",
    "        df.drop(f\"{ts.name}_lag0\", axis=1, inplace=True)\n",
    "    return df"
   ]
  },
  {
   "cell_type": "code",
   "execution_count": 5,
   "id": "studied-poland",
   "metadata": {},
   "outputs": [],
   "source": [
    "inventory_lags = 0\n",
    "adspend_lags = 0\n",
    "rank_lags = 15\n",
    "units_lags = 3"
   ]
  },
  {
   "cell_type": "code",
   "execution_count": 6,
   "id": "selective-citizenship",
   "metadata": {},
   "outputs": [
    {
     "name": "stdout",
     "output_type": "stream",
     "text": [
      "(1043, 21) (1043,)\n"
     ]
    },
    {
     "data": {
      "text/html": [
       "<div>\n",
       "<style scoped>\n",
       "    .dataframe tbody tr th:only-of-type {\n",
       "        vertical-align: middle;\n",
       "    }\n",
       "\n",
       "    .dataframe tbody tr th {\n",
       "        vertical-align: top;\n",
       "    }\n",
       "\n",
       "    .dataframe thead th {\n",
       "        text-align: right;\n",
       "    }\n",
       "</style>\n",
       "<table border=\"1\" class=\"dataframe\">\n",
       "  <thead>\n",
       "    <tr style=\"text-align: right;\">\n",
       "      <th></th>\n",
       "      <th>units_lag1</th>\n",
       "      <th>units_lag2</th>\n",
       "      <th>units_lag3</th>\n",
       "      <th>rank_lag0</th>\n",
       "      <th>rank_lag1</th>\n",
       "      <th>rank_lag2</th>\n",
       "      <th>rank_lag3</th>\n",
       "      <th>rank_lag4</th>\n",
       "      <th>rank_lag5</th>\n",
       "      <th>rank_lag6</th>\n",
       "      <th>...</th>\n",
       "      <th>rank_lag8</th>\n",
       "      <th>rank_lag9</th>\n",
       "      <th>rank_lag10</th>\n",
       "      <th>rank_lag11</th>\n",
       "      <th>rank_lag12</th>\n",
       "      <th>rank_lag13</th>\n",
       "      <th>rank_lag14</th>\n",
       "      <th>rank_lag15</th>\n",
       "      <th>inventory_lag0</th>\n",
       "      <th>adspend_lag0</th>\n",
       "    </tr>\n",
       "  </thead>\n",
       "  <tbody>\n",
       "    <tr>\n",
       "      <th>15</th>\n",
       "      <td>21.0</td>\n",
       "      <td>40.0</td>\n",
       "      <td>39.0</td>\n",
       "      <td>45995</td>\n",
       "      <td>37812.0</td>\n",
       "      <td>59049.0</td>\n",
       "      <td>48368.0</td>\n",
       "      <td>32732.0</td>\n",
       "      <td>55959.0</td>\n",
       "      <td>55959.0</td>\n",
       "      <td>...</td>\n",
       "      <td>68259.0</td>\n",
       "      <td>30705.0</td>\n",
       "      <td>29923.0</td>\n",
       "      <td>39509.0</td>\n",
       "      <td>78695.0</td>\n",
       "      <td>43191.0</td>\n",
       "      <td>48596.0</td>\n",
       "      <td>51432.0</td>\n",
       "      <td>234</td>\n",
       "      <td>56.09</td>\n",
       "    </tr>\n",
       "    <tr>\n",
       "      <th>16</th>\n",
       "      <td>30.0</td>\n",
       "      <td>21.0</td>\n",
       "      <td>40.0</td>\n",
       "      <td>171846</td>\n",
       "      <td>45995.0</td>\n",
       "      <td>37812.0</td>\n",
       "      <td>59049.0</td>\n",
       "      <td>48368.0</td>\n",
       "      <td>32732.0</td>\n",
       "      <td>55959.0</td>\n",
       "      <td>...</td>\n",
       "      <td>55959.0</td>\n",
       "      <td>68259.0</td>\n",
       "      <td>30705.0</td>\n",
       "      <td>29923.0</td>\n",
       "      <td>39509.0</td>\n",
       "      <td>78695.0</td>\n",
       "      <td>43191.0</td>\n",
       "      <td>48596.0</td>\n",
       "      <td>216</td>\n",
       "      <td>35.26</td>\n",
       "    </tr>\n",
       "    <tr>\n",
       "      <th>17</th>\n",
       "      <td>22.0</td>\n",
       "      <td>30.0</td>\n",
       "      <td>21.0</td>\n",
       "      <td>330080</td>\n",
       "      <td>171846.0</td>\n",
       "      <td>45995.0</td>\n",
       "      <td>37812.0</td>\n",
       "      <td>59049.0</td>\n",
       "      <td>48368.0</td>\n",
       "      <td>32732.0</td>\n",
       "      <td>...</td>\n",
       "      <td>55959.0</td>\n",
       "      <td>55959.0</td>\n",
       "      <td>68259.0</td>\n",
       "      <td>30705.0</td>\n",
       "      <td>29923.0</td>\n",
       "      <td>39509.0</td>\n",
       "      <td>78695.0</td>\n",
       "      <td>43191.0</td>\n",
       "      <td>210</td>\n",
       "      <td>39.54</td>\n",
       "    </tr>\n",
       "  </tbody>\n",
       "</table>\n",
       "<p>3 rows × 21 columns</p>\n",
       "</div>"
      ],
      "text/plain": [
       "    units_lag1  units_lag2  units_lag3  rank_lag0  rank_lag1  rank_lag2  \\\n",
       "15        21.0        40.0        39.0      45995    37812.0    59049.0   \n",
       "16        30.0        21.0        40.0     171846    45995.0    37812.0   \n",
       "17        22.0        30.0        21.0     330080   171846.0    45995.0   \n",
       "\n",
       "    rank_lag3  rank_lag4  rank_lag5  rank_lag6  ...  rank_lag8  rank_lag9  \\\n",
       "15    48368.0    32732.0    55959.0    55959.0  ...    68259.0    30705.0   \n",
       "16    59049.0    48368.0    32732.0    55959.0  ...    55959.0    68259.0   \n",
       "17    37812.0    59049.0    48368.0    32732.0  ...    55959.0    55959.0   \n",
       "\n",
       "    rank_lag10  rank_lag11  rank_lag12  rank_lag13  rank_lag14  rank_lag15  \\\n",
       "15     29923.0     39509.0     78695.0     43191.0     48596.0     51432.0   \n",
       "16     30705.0     29923.0     39509.0     78695.0     43191.0     48596.0   \n",
       "17     68259.0     30705.0     29923.0     39509.0     78695.0     43191.0   \n",
       "\n",
       "    inventory_lag0  adspend_lag0  \n",
       "15             234         56.09  \n",
       "16             216         35.26  \n",
       "17             210         39.54  \n",
       "\n",
       "[3 rows x 21 columns]"
      ]
     },
     "execution_count": 6,
     "metadata": {},
     "output_type": "execute_result"
    }
   ],
   "source": [
    "max_lag = max(inventory_lags, adspend_lags, rank_lags, units_lags)\n",
    "\n",
    "x = pd.concat((create_lag_df(sales_df[\"units\"], units_lags, zero_lag=False),\n",
    "               create_lag_df(sales_df[\"rank\"], rank_lags),\n",
    "               create_lag_df(sales_df[\"inventory\"], inventory_lags),\n",
    "               create_lag_df(sales_df[\"adspend\"], adspend_lags)), axis=1)\n",
    "y = sales_df[\"units\"]\n",
    "\n",
    "x, y = x.iloc[max_lag:], y.iloc[max_lag:]\n",
    "print(x.shape, y.shape)\n",
    "x.head(3)"
   ]
  },
  {
   "cell_type": "code",
   "execution_count": 7,
   "id": "adjusted-thing",
   "metadata": {},
   "outputs": [],
   "source": [
    "test_set_size = 90\n",
    "x_train, x_test, y_train, y_test = x.iloc[: -test_set_size], x.iloc[-test_set_size:], y.iloc[: -test_set_size], y.iloc[-test_set_size:]"
   ]
  },
  {
   "cell_type": "markdown",
   "id": "developed-dutch",
   "metadata": {},
   "source": [
    "### Models training"
   ]
  },
  {
   "cell_type": "code",
   "execution_count": 8,
   "id": "formed-marshall",
   "metadata": {},
   "outputs": [],
   "source": [
    "def get_lag_subset(df, inventory_lags, adspend_lags, rank_lags, units_lags):\n",
    "    columns = [f\"units_lag{lag}\" for lag in range(1, units_lags + 1)] + \\\n",
    "              [f\"rank_lag{lag}\" for lag in range(rank_lags + 1)] + \\\n",
    "              [f\"inventory_lag{lag}\" for lag in range(inventory_lags + 1)] + \\\n",
    "              [f\"adspend_lag{lag}\" for lag in range(adspend_lags + 1)]\n",
    "    return df[columns]"
   ]
  },
  {
   "cell_type": "code",
   "execution_count": 9,
   "id": "floral-handy",
   "metadata": {},
   "outputs": [],
   "source": [
    "# WMAPE metric\n",
    "def wmape(y, y_hat):\n",
    "    return np.abs((y - y_hat)).sum() / y.sum()"
   ]
  },
  {
   "cell_type": "code",
   "execution_count": 10,
   "id": "opening-pulse",
   "metadata": {},
   "outputs": [],
   "source": [
    "# RMSE metric\n",
    "def rmse(y, y_hat):\n",
    "    return np.sqrt(((y - y_hat) ** 2).mean())"
   ]
  },
  {
   "cell_type": "code",
   "execution_count": 11,
   "id": "turkish-iceland",
   "metadata": {},
   "outputs": [],
   "source": [
    "# iterator for GridSearch\n",
    "def folds_iterator(n_folds, samples_per_fold, size):\n",
    "    for i in range(n_folds):\n",
    "        yield np.arange(0, size - samples_per_fold * (i + 1)), \\\n",
    "              np.arange(size - samples_per_fold * (i + 1), size - samples_per_fold * i)"
   ]
  },
  {
   "cell_type": "code",
   "execution_count": 12,
   "id": "ranking-absence",
   "metadata": {},
   "outputs": [],
   "source": [
    "def validate_model(model, x, y, params, n_folds, samples_per_fold):\n",
    "    grid_search = GridSearchCV(estimator=model,\n",
    "                               param_grid=params,\n",
    "                               scoring={\"RMSE\": make_scorer(rmse, greater_is_better=False), \"WMAPE\": make_scorer(wmape, greater_is_better=False)},\n",
    "                               refit=\"RMSE\",\n",
    "                               n_jobs=-1, cv=folds_iterator(n_folds, samples_per_fold, x.shape[0]))\n",
    "    grid_search.fit(x, y)\n",
    "    best_index = grid_search.best_index_\n",
    "    return grid_search.best_estimator_, grid_search.cv_results_[\"mean_test_RMSE\"][best_index], grid_search.cv_results_[\"mean_test_WMAPE\"][best_index], grid_search.best_params_"
   ]
  },
  {
   "cell_type": "code",
   "execution_count": 13,
   "id": "laughing-tracy",
   "metadata": {},
   "outputs": [],
   "source": [
    "def validate_lags(model, x, y, params, n_folds, samples_per_fold):\n",
    "    best_rmse = -np.Inf\n",
    "    \n",
    "    for inventory_lag in range(inventory_lags + 1):\n",
    "        for adspend_lag in range(adspend_lags + 1):\n",
    "            for rank_lag in range(rank_lags + 1):\n",
    "                for units_lag in range(1, units_lags + 1):\n",
    "                    cur_x = get_lag_subset(x, inventory_lag, adspend_lag, rank_lag, units_lag)\n",
    "                    cur_model, cur_rmse, cur_wmape, cur_params = validate_model(deepcopy(model), cur_x, y, params, n_folds, samples_per_fold)\n",
    "                    \n",
    "                    if cur_rmse > best_rmse:\n",
    "                        best_rmse = cur_rmse\n",
    "                        best_wmape = cur_wmape\n",
    "                        best_model = cur_model\n",
    "                        best_params = cur_params\n",
    "                        best_inventory_lag = inventory_lag\n",
    "                        best_adspend_lag = adspend_lag\n",
    "                        best_rank_lag = rank_lag\n",
    "                        best_units_lag = units_lag\n",
    "    \n",
    "    print(f\"Best lags number:\\nInventory: {best_inventory_lag};\\nAdspend: {best_adspend_lag}\\nRank: {best_rank_lag}\\nUnits: {best_units_lag}\")\n",
    "    \n",
    "    print(\"\\nBest hyper-parameters\")\n",
    "    for param_name in best_params:\n",
    "        print(f\"{param_name}: {best_params[param_name]}\")\n",
    "\n",
    "    print(f\"\\nRMSE: {best_rmse}; WMAPE: {best_wmape}\")\n",
    "    \n",
    "    return best_model"
   ]
  },
  {
   "cell_type": "code",
   "execution_count": 14,
   "id": "thick-despite",
   "metadata": {},
   "outputs": [],
   "source": [
    "n_folds = 3\n",
    "samples_per_fold = test_set_size"
   ]
  },
  {
   "cell_type": "code",
   "execution_count": 15,
   "id": "promotional-chaos",
   "metadata": {},
   "outputs": [
    {
     "name": "stdout",
     "output_type": "stream",
     "text": [
      "Best lags number:\n",
      "Inventory: 0;\n",
      "Adspend: 0\n",
      "Rank: 5\n",
      "Units: 2\n",
      "\n",
      "Best hyper-parameters\n",
      "\n",
      "RMSE: -31.515565490937146; WMAPE: -0.16572408046229548\n"
     ]
    }
   ],
   "source": [
    "linear_regression = validate_lags(model=Pipeline([(\"scl\", StandardScaler()), (\"reg\", LinearRegression())]), \n",
    "                                  x=x_train,\n",
    "                                  y=y_train,\n",
    "                                  params={},\n",
    "                                  n_folds=n_folds,\n",
    "                                  samples_per_fold=samples_per_fold)"
   ]
  },
  {
   "cell_type": "code",
   "execution_count": 17,
   "id": "fundamental-crown",
   "metadata": {},
   "outputs": [
    {
     "name": "stdout",
     "output_type": "stream",
     "text": [
      "Best lags number:\n",
      "Inventory: 0;\n",
      "Adspend: 0\n",
      "Rank: 5\n",
      "Units: 2\n",
      "\n",
      "Best hyper-parameters\n",
      "reg__alpha: 0.01\n",
      "\n",
      "RMSE: -31.515750654289135; WMAPE: -0.16572550219471258\n"
     ]
    }
   ],
   "source": [
    "ridge = validate_lags(model=Pipeline([(\"scl\", StandardScaler()), (\"reg\", Ridge(random_state=42))]), \n",
    "                      x=x_train,\n",
    "                      y=y_train,\n",
    "                      params={\"reg__alpha\": [0.01, 0.1, 1, 10]},\n",
    "                      n_folds=n_folds,\n",
    "                      samples_per_fold=samples_per_fold)"
   ]
  },
  {
   "cell_type": "code",
   "execution_count": 18,
   "id": "chief-consideration",
   "metadata": {},
   "outputs": [
    {
     "name": "stdout",
     "output_type": "stream",
     "text": [
      "Best lags number:\n",
      "Inventory: 0;\n",
      "Adspend: 0\n",
      "Rank: 5\n",
      "Units: 3\n",
      "\n",
      "Best hyper-parameters\n",
      "reg__alpha: 10\n",
      "\n",
      "RMSE: -37.35794888815844; WMAPE: -0.1970146143824709\n"
     ]
    }
   ],
   "source": [
    "poisson_regression = validate_lags(model=Pipeline([(\"scl\", StandardScaler()), (\"reg\", PoissonRegressor())]), \n",
    "                                   x=x_train,\n",
    "                                   y=y_train,\n",
    "                                   params={\"reg__alpha\": [0.01, 0.1, 1, 10]},\n",
    "                                   n_folds=n_folds,\n",
    "                                   samples_per_fold=samples_per_fold)"
   ]
  },
  {
   "cell_type": "code",
   "execution_count": 19,
   "id": "liberal-headset",
   "metadata": {},
   "outputs": [
    {
     "name": "stdout",
     "output_type": "stream",
     "text": [
      "Best lags number:\n",
      "Inventory: 0;\n",
      "Adspend: 0\n",
      "Rank: 4\n",
      "Units: 2\n",
      "\n",
      "Best hyper-parameters\n",
      "reg__C: 10\n",
      "reg__kernel: linear\n",
      "\n",
      "RMSE: -29.773697477620065; WMAPE: -0.15072956926680622\n"
     ]
    }
   ],
   "source": [
    "svr = validate_lags(model=Pipeline([(\"scl\", StandardScaler()), (\"reg\", SVR())]), \n",
    "                    x=x_train,\n",
    "                    y=y_train,\n",
    "                    params={\"reg__C\": [0.01, 0.1, 1, 10],\n",
    "                            \"reg__kernel\": [\"rbf\", \"linear\"]},\n",
    "                    n_folds=n_folds,\n",
    "                    samples_per_fold=samples_per_fold)"
   ]
  },
  {
   "cell_type": "code",
   "execution_count": 20,
   "id": "moderate-sodium",
   "metadata": {},
   "outputs": [
    {
     "name": "stdout",
     "output_type": "stream",
     "text": [
      "Best lags number:\n",
      "Inventory: 0;\n",
      "Adspend: 0\n",
      "Rank: 8\n",
      "Units: 2\n",
      "\n",
      "Best hyper-parameters\n",
      "max_depth: 5\n",
      "max_features: 0.6\n",
      "min_samples_split: 6\n",
      "n_estimators: 200\n",
      "\n",
      "RMSE: -28.29363284946308; WMAPE: -0.14283033702272083\n"
     ]
    }
   ],
   "source": [
    "random_forest = validate_lags(model=RandomForestRegressor(random_state=42),\n",
    "                              x=x_train,\n",
    "                              y=y_train,\n",
    "                              params={\"max_depth\": [None, 3, 5, 6],\n",
    "                                      \"min_samples_split\": [2, 4, 6],\n",
    "                                      \"n_estimators\": [100, 200],\n",
    "                                      \"max_features\": [0.4, 0.6, 0.8, 1.0]},\n",
    "                              n_folds=n_folds,\n",
    "                              samples_per_fold=samples_per_fold)"
   ]
  },
  {
   "cell_type": "code",
   "execution_count": 23,
   "id": "conventional-differential",
   "metadata": {},
   "outputs": [
    {
     "name": "stdout",
     "output_type": "stream",
     "text": [
      "Best lags number:\n",
      "Inventory: 0;\n",
      "Adspend: 0\n",
      "Rank: 8\n",
      "Units: 2\n",
      "\n",
      "Best hyper-parameters\n",
      "learning_rate: 0.1\n",
      "max_depth: 2\n",
      "max_features: 0.8\n",
      "min_samples_split: 3\n",
      "\n",
      "RMSE: -28.461896076624356; WMAPE: -0.1435691286460768\n"
     ]
    }
   ],
   "source": [
    "gradient_boosting = validate_lags(model=GradientBoostingRegressor(random_state=42),\n",
    "                                  x=x_train,\n",
    "                                  y=y_train,\n",
    "                                  params={\"min_samples_split\": [2, 3, 5],\n",
    "                                          \"max_depth\": [2, 3, 5],\n",
    "                                          \"learning_rate\": [0.01, 0.1, 1],\n",
    "                                          \"max_features\": [0.4, 0.6, 0.8, 1.0]},\n",
    "                                  n_folds=n_folds,\n",
    "                                  samples_per_fold=samples_per_fold)"
   ]
  },
  {
   "cell_type": "markdown",
   "id": "advised-battle",
   "metadata": {},
   "source": [
    "### Test set evaluation"
   ]
  },
  {
   "cell_type": "code",
   "execution_count": 15,
   "id": "working-cosmetic",
   "metadata": {},
   "outputs": [],
   "source": [
    "x_train, x_test = get_lag_subset(x_train, 0, 0, 8, 2), get_lag_subset(x_test, 0, 0, 8, 2)"
   ]
  },
  {
   "cell_type": "code",
   "execution_count": 24,
   "id": "marked-cooperation",
   "metadata": {},
   "outputs": [
    {
     "data": {
      "text/html": [
       "<div>\n",
       "<style scoped>\n",
       "    .dataframe tbody tr th:only-of-type {\n",
       "        vertical-align: middle;\n",
       "    }\n",
       "\n",
       "    .dataframe tbody tr th {\n",
       "        vertical-align: top;\n",
       "    }\n",
       "\n",
       "    .dataframe thead th {\n",
       "        text-align: right;\n",
       "    }\n",
       "</style>\n",
       "<table border=\"1\" class=\"dataframe\">\n",
       "  <thead>\n",
       "    <tr style=\"text-align: right;\">\n",
       "      <th></th>\n",
       "      <th>dt</th>\n",
       "      <th>sales</th>\n",
       "      <th>forcasted sales</th>\n",
       "    </tr>\n",
       "  </thead>\n",
       "  <tbody>\n",
       "    <tr>\n",
       "      <th>968</th>\n",
       "      <td>2020-05-21</td>\n",
       "      <td>166</td>\n",
       "      <td>173.553580</td>\n",
       "    </tr>\n",
       "    <tr>\n",
       "      <th>969</th>\n",
       "      <td>2020-05-22</td>\n",
       "      <td>149</td>\n",
       "      <td>180.909443</td>\n",
       "    </tr>\n",
       "    <tr>\n",
       "      <th>970</th>\n",
       "      <td>2020-05-23</td>\n",
       "      <td>174</td>\n",
       "      <td>141.398636</td>\n",
       "    </tr>\n",
       "  </tbody>\n",
       "</table>\n",
       "</div>"
      ],
      "text/plain": [
       "            dt  sales  forcasted sales\n",
       "968 2020-05-21    166       173.553580\n",
       "969 2020-05-22    149       180.909443\n",
       "970 2020-05-23    174       141.398636"
      ]
     },
     "execution_count": 24,
     "metadata": {},
     "output_type": "execute_result"
    }
   ],
   "source": [
    "y_hat = random_forest.predict(x_test)\n",
    "wmape_score = wmape(y_test, y_hat)\n",
    "rmse_score = rmse(y_test, y_hat)\n",
    "\n",
    "predictions_df = pd.DataFrame({\"dt\": sales_df[\"dt\"][-test_set_size:], \"sales\": y_test, \"forcasted sales\": y_hat})\n",
    "predictions_df.head(3)"
   ]
  },
  {
   "cell_type": "code",
   "execution_count": 25,
   "id": "reduced-restaurant",
   "metadata": {},
   "outputs": [
    {
     "data": {
      "application/vnd.vegalite.v4+json": {
       "$schema": "https://vega.github.io/schema/vega-lite/v4.8.1.json",
       "config": {
        "view": {
         "continuousHeight": 300,
         "continuousWidth": 400
        }
       },
       "data": {
        "name": "data-21d82df2b81676f20979d598bf258160"
       },
       "datasets": {
        "data-21d82df2b81676f20979d598bf258160": [
         {
          "dt": "2020-05-21T00:00:00",
          "value": 166,
          "variable": "sales"
         },
         {
          "dt": "2020-05-22T00:00:00",
          "value": 149,
          "variable": "sales"
         },
         {
          "dt": "2020-05-23T00:00:00",
          "value": 174,
          "variable": "sales"
         },
         {
          "dt": "2020-05-24T00:00:00",
          "value": 146,
          "variable": "sales"
         },
         {
          "dt": "2020-05-25T00:00:00",
          "value": 113,
          "variable": "sales"
         },
         {
          "dt": "2020-05-26T00:00:00",
          "value": 109,
          "variable": "sales"
         },
         {
          "dt": "2020-05-27T00:00:00",
          "value": 120,
          "variable": "sales"
         },
         {
          "dt": "2020-05-28T00:00:00",
          "value": 130,
          "variable": "sales"
         },
         {
          "dt": "2020-05-29T00:00:00",
          "value": 119,
          "variable": "sales"
         },
         {
          "dt": "2020-05-30T00:00:00",
          "value": 107,
          "variable": "sales"
         },
         {
          "dt": "2020-05-31T00:00:00",
          "value": 105,
          "variable": "sales"
         },
         {
          "dt": "2020-06-01T00:00:00",
          "value": 110,
          "variable": "sales"
         },
         {
          "dt": "2020-06-02T00:00:00",
          "value": 87,
          "variable": "sales"
         },
         {
          "dt": "2020-06-03T00:00:00",
          "value": 108,
          "variable": "sales"
         },
         {
          "dt": "2020-06-04T00:00:00",
          "value": 107,
          "variable": "sales"
         },
         {
          "dt": "2020-06-05T00:00:00",
          "value": 107,
          "variable": "sales"
         },
         {
          "dt": "2020-06-06T00:00:00",
          "value": 97,
          "variable": "sales"
         },
         {
          "dt": "2020-06-07T00:00:00",
          "value": 124,
          "variable": "sales"
         },
         {
          "dt": "2020-06-08T00:00:00",
          "value": 142,
          "variable": "sales"
         },
         {
          "dt": "2020-06-09T00:00:00",
          "value": 170,
          "variable": "sales"
         },
         {
          "dt": "2020-06-10T00:00:00",
          "value": 193,
          "variable": "sales"
         },
         {
          "dt": "2020-06-11T00:00:00",
          "value": 152,
          "variable": "sales"
         },
         {
          "dt": "2020-06-12T00:00:00",
          "value": 145,
          "variable": "sales"
         },
         {
          "dt": "2020-06-13T00:00:00",
          "value": 128,
          "variable": "sales"
         },
         {
          "dt": "2020-06-14T00:00:00",
          "value": 138,
          "variable": "sales"
         },
         {
          "dt": "2020-06-15T00:00:00",
          "value": 150,
          "variable": "sales"
         },
         {
          "dt": "2020-06-16T00:00:00",
          "value": 149,
          "variable": "sales"
         },
         {
          "dt": "2020-06-17T00:00:00",
          "value": 154,
          "variable": "sales"
         },
         {
          "dt": "2020-06-18T00:00:00",
          "value": 152,
          "variable": "sales"
         },
         {
          "dt": "2020-06-19T00:00:00",
          "value": 145,
          "variable": "sales"
         },
         {
          "dt": "2020-06-20T00:00:00",
          "value": 142,
          "variable": "sales"
         },
         {
          "dt": "2020-06-21T00:00:00",
          "value": 153,
          "variable": "sales"
         },
         {
          "dt": "2020-06-22T00:00:00",
          "value": 149,
          "variable": "sales"
         },
         {
          "dt": "2020-06-23T00:00:00",
          "value": 155,
          "variable": "sales"
         },
         {
          "dt": "2020-06-24T00:00:00",
          "value": 150,
          "variable": "sales"
         },
         {
          "dt": "2020-06-25T00:00:00",
          "value": 172,
          "variable": "sales"
         },
         {
          "dt": "2020-06-26T00:00:00",
          "value": 128,
          "variable": "sales"
         },
         {
          "dt": "2020-06-27T00:00:00",
          "value": 128,
          "variable": "sales"
         },
         {
          "dt": "2020-06-28T00:00:00",
          "value": 178,
          "variable": "sales"
         },
         {
          "dt": "2020-06-29T00:00:00",
          "value": 179,
          "variable": "sales"
         },
         {
          "dt": "2020-06-30T00:00:00",
          "value": 182,
          "variable": "sales"
         },
         {
          "dt": "2020-07-01T00:00:00",
          "value": 190,
          "variable": "sales"
         },
         {
          "dt": "2020-07-02T00:00:00",
          "value": 163,
          "variable": "sales"
         },
         {
          "dt": "2020-07-03T00:00:00",
          "value": 167,
          "variable": "sales"
         },
         {
          "dt": "2020-07-04T00:00:00",
          "value": 153,
          "variable": "sales"
         },
         {
          "dt": "2020-07-05T00:00:00",
          "value": 181,
          "variable": "sales"
         },
         {
          "dt": "2020-07-06T00:00:00",
          "value": 187,
          "variable": "sales"
         },
         {
          "dt": "2020-07-07T00:00:00",
          "value": 191,
          "variable": "sales"
         },
         {
          "dt": "2020-07-08T00:00:00",
          "value": 204,
          "variable": "sales"
         },
         {
          "dt": "2020-07-09T00:00:00",
          "value": 163,
          "variable": "sales"
         },
         {
          "dt": "2020-07-10T00:00:00",
          "value": 177,
          "variable": "sales"
         },
         {
          "dt": "2020-07-11T00:00:00",
          "value": 155,
          "variable": "sales"
         },
         {
          "dt": "2020-07-12T00:00:00",
          "value": 210,
          "variable": "sales"
         },
         {
          "dt": "2020-07-13T00:00:00",
          "value": 162,
          "variable": "sales"
         },
         {
          "dt": "2020-07-14T00:00:00",
          "value": 159,
          "variable": "sales"
         },
         {
          "dt": "2020-07-15T00:00:00",
          "value": 193,
          "variable": "sales"
         },
         {
          "dt": "2020-07-16T00:00:00",
          "value": 173,
          "variable": "sales"
         },
         {
          "dt": "2020-07-17T00:00:00",
          "value": 164,
          "variable": "sales"
         },
         {
          "dt": "2020-07-18T00:00:00",
          "value": 135,
          "variable": "sales"
         },
         {
          "dt": "2020-07-19T00:00:00",
          "value": 127,
          "variable": "sales"
         },
         {
          "dt": "2020-07-20T00:00:00",
          "value": 122,
          "variable": "sales"
         },
         {
          "dt": "2020-07-21T00:00:00",
          "value": 119,
          "variable": "sales"
         },
         {
          "dt": "2020-07-22T00:00:00",
          "value": 7,
          "variable": "sales"
         },
         {
          "dt": "2020-07-23T00:00:00",
          "value": 6,
          "variable": "sales"
         },
         {
          "dt": "2020-07-24T00:00:00",
          "value": 1,
          "variable": "sales"
         },
         {
          "dt": "2020-07-25T00:00:00",
          "value": 5,
          "variable": "sales"
         },
         {
          "dt": "2020-07-26T00:00:00",
          "value": 3,
          "variable": "sales"
         },
         {
          "dt": "2020-07-27T00:00:00",
          "value": 4,
          "variable": "sales"
         },
         {
          "dt": "2020-07-28T00:00:00",
          "value": 3,
          "variable": "sales"
         },
         {
          "dt": "2020-07-29T00:00:00",
          "value": 4,
          "variable": "sales"
         },
         {
          "dt": "2020-07-30T00:00:00",
          "value": 5,
          "variable": "sales"
         },
         {
          "dt": "2020-07-31T00:00:00",
          "value": 93,
          "variable": "sales"
         },
         {
          "dt": "2020-08-01T00:00:00",
          "value": 157,
          "variable": "sales"
         },
         {
          "dt": "2020-08-02T00:00:00",
          "value": 160,
          "variable": "sales"
         },
         {
          "dt": "2020-08-03T00:00:00",
          "value": 143,
          "variable": "sales"
         },
         {
          "dt": "2020-08-04T00:00:00",
          "value": 148,
          "variable": "sales"
         },
         {
          "dt": "2020-08-05T00:00:00",
          "value": 144,
          "variable": "sales"
         },
         {
          "dt": "2020-08-06T00:00:00",
          "value": 125,
          "variable": "sales"
         },
         {
          "dt": "2020-08-07T00:00:00",
          "value": 150,
          "variable": "sales"
         },
         {
          "dt": "2020-08-08T00:00:00",
          "value": 159,
          "variable": "sales"
         },
         {
          "dt": "2020-08-09T00:00:00",
          "value": 175,
          "variable": "sales"
         },
         {
          "dt": "2020-08-10T00:00:00",
          "value": 164,
          "variable": "sales"
         },
         {
          "dt": "2020-08-11T00:00:00",
          "value": 146,
          "variable": "sales"
         },
         {
          "dt": "2020-08-12T00:00:00",
          "value": 85,
          "variable": "sales"
         },
         {
          "dt": "2020-08-13T00:00:00",
          "value": 86,
          "variable": "sales"
         },
         {
          "dt": "2020-08-14T00:00:00",
          "value": 102,
          "variable": "sales"
         },
         {
          "dt": "2020-08-15T00:00:00",
          "value": 72,
          "variable": "sales"
         },
         {
          "dt": "2020-08-16T00:00:00",
          "value": 91,
          "variable": "sales"
         },
         {
          "dt": "2020-08-17T00:00:00",
          "value": 60,
          "variable": "sales"
         },
         {
          "dt": "2020-08-18T00:00:00",
          "value": 15,
          "variable": "sales"
         },
         {
          "dt": "2020-05-21T00:00:00",
          "value": 173.55357990877098,
          "variable": "forcasted sales"
         },
         {
          "dt": "2020-05-22T00:00:00",
          "value": 180.9094433043151,
          "variable": "forcasted sales"
         },
         {
          "dt": "2020-05-23T00:00:00",
          "value": 141.39863640830794,
          "variable": "forcasted sales"
         },
         {
          "dt": "2020-05-24T00:00:00",
          "value": 177.57374573251911,
          "variable": "forcasted sales"
         },
         {
          "dt": "2020-05-25T00:00:00",
          "value": 141.88778488587823,
          "variable": "forcasted sales"
         },
         {
          "dt": "2020-05-26T00:00:00",
          "value": 124.99574664351142,
          "variable": "forcasted sales"
         },
         {
          "dt": "2020-05-27T00:00:00",
          "value": 120.85819224694744,
          "variable": "forcasted sales"
         },
         {
          "dt": "2020-05-28T00:00:00",
          "value": 130.17416075046035,
          "variable": "forcasted sales"
         },
         {
          "dt": "2020-05-29T00:00:00",
          "value": 137.54667543638084,
          "variable": "forcasted sales"
         },
         {
          "dt": "2020-05-30T00:00:00",
          "value": 131.33917260126097,
          "variable": "forcasted sales"
         },
         {
          "dt": "2020-05-31T00:00:00",
          "value": 124.15296063335023,
          "variable": "forcasted sales"
         },
         {
          "dt": "2020-06-01T00:00:00",
          "value": 121.4780436218652,
          "variable": "forcasted sales"
         },
         {
          "dt": "2020-06-02T00:00:00",
          "value": 121.5467933633135,
          "variable": "forcasted sales"
         },
         {
          "dt": "2020-06-03T00:00:00",
          "value": 108.27348190745288,
          "variable": "forcasted sales"
         },
         {
          "dt": "2020-06-04T00:00:00",
          "value": 111.60244734820948,
          "variable": "forcasted sales"
         },
         {
          "dt": "2020-06-05T00:00:00",
          "value": 117.2675822122696,
          "variable": "forcasted sales"
         },
         {
          "dt": "2020-06-06T00:00:00",
          "value": 116.40929546787676,
          "variable": "forcasted sales"
         },
         {
          "dt": "2020-06-07T00:00:00",
          "value": 114.65380308475692,
          "variable": "forcasted sales"
         },
         {
          "dt": "2020-06-08T00:00:00",
          "value": 132.94084855377386,
          "variable": "forcasted sales"
         },
         {
          "dt": "2020-06-09T00:00:00",
          "value": 137.09409877758276,
          "variable": "forcasted sales"
         },
         {
          "dt": "2020-06-10T00:00:00",
          "value": 159.96514212564637,
          "variable": "forcasted sales"
         },
         {
          "dt": "2020-06-11T00:00:00",
          "value": 177.26660800307386,
          "variable": "forcasted sales"
         },
         {
          "dt": "2020-06-12T00:00:00",
          "value": 145.47251238465887,
          "variable": "forcasted sales"
         },
         {
          "dt": "2020-06-13T00:00:00",
          "value": 138.2849088390548,
          "variable": "forcasted sales"
         },
         {
          "dt": "2020-06-14T00:00:00",
          "value": 135.70082227787017,
          "variable": "forcasted sales"
         },
         {
          "dt": "2020-06-15T00:00:00",
          "value": 137.06285969600654,
          "variable": "forcasted sales"
         },
         {
          "dt": "2020-06-16T00:00:00",
          "value": 136.91768774871397,
          "variable": "forcasted sales"
         },
         {
          "dt": "2020-06-17T00:00:00",
          "value": 137.7955577957029,
          "variable": "forcasted sales"
         },
         {
          "dt": "2020-06-18T00:00:00",
          "value": 138.48601879968518,
          "variable": "forcasted sales"
         },
         {
          "dt": "2020-06-19T00:00:00",
          "value": 138.3453951358299,
          "variable": "forcasted sales"
         },
         {
          "dt": "2020-06-20T00:00:00",
          "value": 138.53604724885636,
          "variable": "forcasted sales"
         },
         {
          "dt": "2020-06-21T00:00:00",
          "value": 138.20422208880072,
          "variable": "forcasted sales"
         },
         {
          "dt": "2020-06-22T00:00:00",
          "value": 137.7992071536265,
          "variable": "forcasted sales"
         },
         {
          "dt": "2020-06-23T00:00:00",
          "value": 137.96146232301334,
          "variable": "forcasted sales"
         },
         {
          "dt": "2020-06-24T00:00:00",
          "value": 140.22069249497306,
          "variable": "forcasted sales"
         },
         {
          "dt": "2020-06-25T00:00:00",
          "value": 137.96146232301334,
          "variable": "forcasted sales"
         },
         {
          "dt": "2020-06-26T00:00:00",
          "value": 162.8388192623195,
          "variable": "forcasted sales"
         },
         {
          "dt": "2020-06-27T00:00:00",
          "value": 136.84121315288616,
          "variable": "forcasted sales"
         },
         {
          "dt": "2020-06-28T00:00:00",
          "value": 134.03357852479826,
          "variable": "forcasted sales"
         },
         {
          "dt": "2020-06-29T00:00:00",
          "value": 161.98169887576753,
          "variable": "forcasted sales"
         },
         {
          "dt": "2020-06-30T00:00:00",
          "value": 171.0457931213212,
          "variable": "forcasted sales"
         },
         {
          "dt": "2020-07-01T00:00:00",
          "value": 182.94048863363017,
          "variable": "forcasted sales"
         },
         {
          "dt": "2020-07-02T00:00:00",
          "value": 181.7396626096457,
          "variable": "forcasted sales"
         },
         {
          "dt": "2020-07-03T00:00:00",
          "value": 157.25880533446224,
          "variable": "forcasted sales"
         },
         {
          "dt": "2020-07-04T00:00:00",
          "value": 156.7900475527391,
          "variable": "forcasted sales"
         },
         {
          "dt": "2020-07-05T00:00:00",
          "value": 132.92478361249698,
          "variable": "forcasted sales"
         },
         {
          "dt": "2020-07-06T00:00:00",
          "value": 153.89572469851146,
          "variable": "forcasted sales"
         },
         {
          "dt": "2020-07-07T00:00:00",
          "value": 169.55595979194996,
          "variable": "forcasted sales"
         },
         {
          "dt": "2020-07-08T00:00:00",
          "value": 176.22100364338223,
          "variable": "forcasted sales"
         },
         {
          "dt": "2020-07-09T00:00:00",
          "value": 187.81643861279701,
          "variable": "forcasted sales"
         },
         {
          "dt": "2020-07-10T00:00:00",
          "value": 152.40195963037257,
          "variable": "forcasted sales"
         },
         {
          "dt": "2020-07-11T00:00:00",
          "value": 158.951827680585,
          "variable": "forcasted sales"
         },
         {
          "dt": "2020-07-12T00:00:00",
          "value": 134.49020641855088,
          "variable": "forcasted sales"
         },
         {
          "dt": "2020-07-13T00:00:00",
          "value": 164.5639066398691,
          "variable": "forcasted sales"
         },
         {
          "dt": "2020-07-14T00:00:00",
          "value": 145.15505900346173,
          "variable": "forcasted sales"
         },
         {
          "dt": "2020-07-15T00:00:00",
          "value": 131.14618096728876,
          "variable": "forcasted sales"
         },
         {
          "dt": "2020-07-16T00:00:00",
          "value": 160.0715318445558,
          "variable": "forcasted sales"
         },
         {
          "dt": "2020-07-17T00:00:00",
          "value": 169.7735239116806,
          "variable": "forcasted sales"
         },
         {
          "dt": "2020-07-18T00:00:00",
          "value": 157.85155767678873,
          "variable": "forcasted sales"
         },
         {
          "dt": "2020-07-19T00:00:00",
          "value": 131.3768259556612,
          "variable": "forcasted sales"
         },
         {
          "dt": "2020-07-20T00:00:00",
          "value": 125.34653601365244,
          "variable": "forcasted sales"
         },
         {
          "dt": "2020-07-21T00:00:00",
          "value": 122.44110668560397,
          "variable": "forcasted sales"
         },
         {
          "dt": "2020-07-22T00:00:00",
          "value": 104.64816043122727,
          "variable": "forcasted sales"
         },
         {
          "dt": "2020-07-23T00:00:00",
          "value": 32.49751184267579,
          "variable": "forcasted sales"
         },
         {
          "dt": "2020-07-24T00:00:00",
          "value": 22.228181108287366,
          "variable": "forcasted sales"
         },
         {
          "dt": "2020-07-25T00:00:00",
          "value": 13.506716920668296,
          "variable": "forcasted sales"
         },
         {
          "dt": "2020-07-26T00:00:00",
          "value": 31.051041010663184,
          "variable": "forcasted sales"
         },
         {
          "dt": "2020-07-27T00:00:00",
          "value": 21.05690501458414,
          "variable": "forcasted sales"
         },
         {
          "dt": "2020-07-28T00:00:00",
          "value": 19.92763944753112,
          "variable": "forcasted sales"
         },
         {
          "dt": "2020-07-29T00:00:00",
          "value": 14.059861651241853,
          "variable": "forcasted sales"
         },
         {
          "dt": "2020-07-30T00:00:00",
          "value": 12.652621317711153,
          "variable": "forcasted sales"
         },
         {
          "dt": "2020-07-31T00:00:00",
          "value": 56.947653392995356,
          "variable": "forcasted sales"
         },
         {
          "dt": "2020-08-01T00:00:00",
          "value": 91.40013852292851,
          "variable": "forcasted sales"
         },
         {
          "dt": "2020-08-02T00:00:00",
          "value": 128.06098526489566,
          "variable": "forcasted sales"
         },
         {
          "dt": "2020-08-03T00:00:00",
          "value": 134.11457285290373,
          "variable": "forcasted sales"
         },
         {
          "dt": "2020-08-04T00:00:00",
          "value": 128.30697295802614,
          "variable": "forcasted sales"
         },
         {
          "dt": "2020-08-05T00:00:00",
          "value": 124.67352535061353,
          "variable": "forcasted sales"
         },
         {
          "dt": "2020-08-06T00:00:00",
          "value": 125.84431025810868,
          "variable": "forcasted sales"
         },
         {
          "dt": "2020-08-07T00:00:00",
          "value": 113.57188791405581,
          "variable": "forcasted sales"
         },
         {
          "dt": "2020-08-08T00:00:00",
          "value": 117.68142982523837,
          "variable": "forcasted sales"
         },
         {
          "dt": "2020-08-09T00:00:00",
          "value": 123.71839729884843,
          "variable": "forcasted sales"
         },
         {
          "dt": "2020-08-10T00:00:00",
          "value": 156.03546555780454,
          "variable": "forcasted sales"
         },
         {
          "dt": "2020-08-11T00:00:00",
          "value": 159.5744657787622,
          "variable": "forcasted sales"
         },
         {
          "dt": "2020-08-12T00:00:00",
          "value": 127.08104731958005,
          "variable": "forcasted sales"
         },
         {
          "dt": "2020-08-13T00:00:00",
          "value": 87.27147244762142,
          "variable": "forcasted sales"
         },
         {
          "dt": "2020-08-14T00:00:00",
          "value": 86.2294687841243,
          "variable": "forcasted sales"
         },
         {
          "dt": "2020-08-15T00:00:00",
          "value": 91.0920828072715,
          "variable": "forcasted sales"
         },
         {
          "dt": "2020-08-16T00:00:00",
          "value": 66.54262338521254,
          "variable": "forcasted sales"
         },
         {
          "dt": "2020-08-17T00:00:00",
          "value": 85.33730125636188,
          "variable": "forcasted sales"
         },
         {
          "dt": "2020-08-18T00:00:00",
          "value": 47.19520492239716,
          "variable": "forcasted sales"
         }
        ]
       },
       "encoding": {
        "color": {
         "field": "variable",
         "type": "nominal"
        },
        "x": {
         "axis": {
          "format": "%b %y"
         },
         "field": "dt",
         "type": "temporal"
        },
        "y": {
         "field": "value",
         "type": "quantitative"
        }
       },
       "height": 400,
       "mark": {
        "point": true,
        "type": "line"
       },
       "title": "RMSE = 26.664251185901332; WMAPE = 0.15959195011594918",
       "width": 700
      },
      "image/png": "[encoded data removed]",
      "text/plain": [
       "<VegaLite 4 object>\n",
       "\n",
       "If you see this message, it means the renderer has not been properly enabled\n",
       "for the frontend that you are using. For more information, see\n",
       "https://altair-viz.github.io/user_guide/troubleshooting.html\n"
      ]
     },
     "execution_count": 25,
     "metadata": {},
     "output_type": "execute_result"
    }
   ],
   "source": [
    "alt.Chart(pd.melt(predictions_df, \"dt\")).mark_line(point=True) \\\n",
    ".encode(\n",
    "    x = alt.X(\"dt:T\", axis=alt.Axis(format=\"%b %y\")),\n",
    "    y = alt.Y(\"value:Q\"),\n",
    "    color = alt.Color(\"variable:N\")\n",
    ").properties(width=700, height=400, title=f\"RMSE = {rmse_score}; WMAPE = {wmape_score}\")"
   ]
  },
  {
   "cell_type": "code",
   "execution_count": 39,
   "id": "bigger-shower",
   "metadata": {},
   "outputs": [
    {
     "data": {
      "application/vnd.vegalite.v4+json": {
       "$schema": "https://vega.github.io/schema/vega-lite/v4.8.1.json",
       "config": {
        "view": {
         "continuousHeight": 300,
         "continuousWidth": 400
        }
       },
       "data": {
        "name": "data-33c5306ad99be842661adb2201b79e32"
       },
       "datasets": {
        "data-33c5306ad99be842661adb2201b79e32": [
         {
          "dt": "2020-05-21T00:00:00",
          "forcasted sales": 173.55357990877098,
          "residuals": -7.553579908770985,
          "sales": 166
         },
         {
          "dt": "2020-05-22T00:00:00",
          "forcasted sales": 180.9094433043151,
          "residuals": -31.90944330431509,
          "sales": 149
         },
         {
          "dt": "2020-05-23T00:00:00",
          "forcasted sales": 141.39863640830794,
          "residuals": 32.60136359169206,
          "sales": 174
         },
         {
          "dt": "2020-05-24T00:00:00",
          "forcasted sales": 177.57374573251911,
          "residuals": -31.573745732519114,
          "sales": 146
         },
         {
          "dt": "2020-05-25T00:00:00",
          "forcasted sales": 141.88778488587823,
          "residuals": -28.887784885878233,
          "sales": 113
         },
         {
          "dt": "2020-05-26T00:00:00",
          "forcasted sales": 124.99574664351142,
          "residuals": -15.995746643511424,
          "sales": 109
         },
         {
          "dt": "2020-05-27T00:00:00",
          "forcasted sales": 120.85819224694744,
          "residuals": -0.8581922469474392,
          "sales": 120
         },
         {
          "dt": "2020-05-28T00:00:00",
          "forcasted sales": 130.17416075046035,
          "residuals": -0.17416075046034507,
          "sales": 130
         },
         {
          "dt": "2020-05-29T00:00:00",
          "forcasted sales": 137.54667543638084,
          "residuals": -18.546675436380838,
          "sales": 119
         },
         {
          "dt": "2020-05-30T00:00:00",
          "forcasted sales": 131.33917260126097,
          "residuals": -24.33917260126097,
          "sales": 107
         },
         {
          "dt": "2020-05-31T00:00:00",
          "forcasted sales": 124.15296063335023,
          "residuals": -19.152960633350233,
          "sales": 105
         },
         {
          "dt": "2020-06-01T00:00:00",
          "forcasted sales": 121.4780436218652,
          "residuals": -11.478043621865197,
          "sales": 110
         },
         {
          "dt": "2020-06-02T00:00:00",
          "forcasted sales": 121.5467933633135,
          "residuals": -34.5467933633135,
          "sales": 87
         },
         {
          "dt": "2020-06-03T00:00:00",
          "forcasted sales": 108.27348190745288,
          "residuals": -0.2734819074528758,
          "sales": 108
         },
         {
          "dt": "2020-06-04T00:00:00",
          "forcasted sales": 111.60244734820948,
          "residuals": -4.6024473482094805,
          "sales": 107
         },
         {
          "dt": "2020-06-05T00:00:00",
          "forcasted sales": 117.2675822122696,
          "residuals": -10.267582212269602,
          "sales": 107
         },
         {
          "dt": "2020-06-06T00:00:00",
          "forcasted sales": 116.40929546787676,
          "residuals": -19.40929546787676,
          "sales": 97
         },
         {
          "dt": "2020-06-07T00:00:00",
          "forcasted sales": 114.65380308475692,
          "residuals": 9.346196915243084,
          "sales": 124
         },
         {
          "dt": "2020-06-08T00:00:00",
          "forcasted sales": 132.94084855377386,
          "residuals": 9.059151446226139,
          "sales": 142
         },
         {
          "dt": "2020-06-09T00:00:00",
          "forcasted sales": 137.09409877758276,
          "residuals": 32.90590122241724,
          "sales": 170
         },
         {
          "dt": "2020-06-10T00:00:00",
          "forcasted sales": 159.96514212564637,
          "residuals": 33.034857874353634,
          "sales": 193
         },
         {
          "dt": "2020-06-11T00:00:00",
          "forcasted sales": 177.26660800307386,
          "residuals": -25.266608003073856,
          "sales": 152
         },
         {
          "dt": "2020-06-12T00:00:00",
          "forcasted sales": 145.47251238465887,
          "residuals": -0.47251238465887013,
          "sales": 145
         },
         {
          "dt": "2020-06-13T00:00:00",
          "forcasted sales": 138.2849088390548,
          "residuals": -10.284908839054793,
          "sales": 128
         },
         {
          "dt": "2020-06-14T00:00:00",
          "forcasted sales": 135.70082227787017,
          "residuals": 2.2991777221298264,
          "sales": 138
         },
         {
          "dt": "2020-06-15T00:00:00",
          "forcasted sales": 137.06285969600654,
          "residuals": 12.93714030399346,
          "sales": 150
         },
         {
          "dt": "2020-06-16T00:00:00",
          "forcasted sales": 136.91768774871397,
          "residuals": 12.082312251286027,
          "sales": 149
         },
         {
          "dt": "2020-06-17T00:00:00",
          "forcasted sales": 137.7955577957029,
          "residuals": 16.204442204297095,
          "sales": 154
         },
         {
          "dt": "2020-06-18T00:00:00",
          "forcasted sales": 138.48601879968518,
          "residuals": 13.513981200314817,
          "sales": 152
         },
         {
          "dt": "2020-06-19T00:00:00",
          "forcasted sales": 138.3453951358299,
          "residuals": 6.654604864170096,
          "sales": 145
         },
         {
          "dt": "2020-06-20T00:00:00",
          "forcasted sales": 138.53604724885636,
          "residuals": 3.463952751143637,
          "sales": 142
         },
         {
          "dt": "2020-06-21T00:00:00",
          "forcasted sales": 138.20422208880072,
          "residuals": 14.79577791119928,
          "sales": 153
         },
         {
          "dt": "2020-06-22T00:00:00",
          "forcasted sales": 137.7992071536265,
          "residuals": 11.200792846373503,
          "sales": 149
         },
         {
          "dt": "2020-06-23T00:00:00",
          "forcasted sales": 137.96146232301334,
          "residuals": 17.038537676986664,
          "sales": 155
         },
         {
          "dt": "2020-06-24T00:00:00",
          "forcasted sales": 140.22069249497306,
          "residuals": 9.779307505026935,
          "sales": 150
         },
         {
          "dt": "2020-06-25T00:00:00",
          "forcasted sales": 137.96146232301334,
          "residuals": 34.038537676986664,
          "sales": 172
         },
         {
          "dt": "2020-06-26T00:00:00",
          "forcasted sales": 162.8388192623195,
          "residuals": -34.838819262319504,
          "sales": 128
         },
         {
          "dt": "2020-06-27T00:00:00",
          "forcasted sales": 136.84121315288616,
          "residuals": -8.841213152886155,
          "sales": 128
         },
         {
          "dt": "2020-06-28T00:00:00",
          "forcasted sales": 134.03357852479826,
          "residuals": 43.96642147520174,
          "sales": 178
         },
         {
          "dt": "2020-06-29T00:00:00",
          "forcasted sales": 161.98169887576753,
          "residuals": 17.018301124232465,
          "sales": 179
         },
         {
          "dt": "2020-06-30T00:00:00",
          "forcasted sales": 171.0457931213212,
          "residuals": 10.954206878678804,
          "sales": 182
         },
         {
          "dt": "2020-07-01T00:00:00",
          "forcasted sales": 182.94048863363017,
          "residuals": 7.059511366369833,
          "sales": 190
         },
         {
          "dt": "2020-07-02T00:00:00",
          "forcasted sales": 181.7396626096457,
          "residuals": -18.739662609645706,
          "sales": 163
         },
         {
          "dt": "2020-07-03T00:00:00",
          "forcasted sales": 157.25880533446224,
          "residuals": 9.741194665537762,
          "sales": 167
         },
         {
          "dt": "2020-07-04T00:00:00",
          "forcasted sales": 156.7900475527391,
          "residuals": -3.790047552739111,
          "sales": 153
         },
         {
          "dt": "2020-07-05T00:00:00",
          "forcasted sales": 132.92478361249698,
          "residuals": 48.07521638750302,
          "sales": 181
         },
         {
          "dt": "2020-07-06T00:00:00",
          "forcasted sales": 153.89572469851146,
          "residuals": 33.10427530148854,
          "sales": 187
         },
         {
          "dt": "2020-07-07T00:00:00",
          "forcasted sales": 169.55595979194996,
          "residuals": 21.44404020805004,
          "sales": 191
         },
         {
          "dt": "2020-07-08T00:00:00",
          "forcasted sales": 176.22100364338223,
          "residuals": 27.778996356617768,
          "sales": 204
         },
         {
          "dt": "2020-07-09T00:00:00",
          "forcasted sales": 187.81643861279701,
          "residuals": -24.816438612797015,
          "sales": 163
         },
         {
          "dt": "2020-07-10T00:00:00",
          "forcasted sales": 152.40195963037257,
          "residuals": 24.598040369627427,
          "sales": 177
         },
         {
          "dt": "2020-07-11T00:00:00",
          "forcasted sales": 158.951827680585,
          "residuals": -3.951827680585012,
          "sales": 155
         },
         {
          "dt": "2020-07-12T00:00:00",
          "forcasted sales": 134.49020641855088,
          "residuals": 75.50979358144912,
          "sales": 210
         },
         {
          "dt": "2020-07-13T00:00:00",
          "forcasted sales": 164.5639066398691,
          "residuals": -2.5639066398690886,
          "sales": 162
         },
         {
          "dt": "2020-07-14T00:00:00",
          "forcasted sales": 145.15505900346173,
          "residuals": 13.84494099653827,
          "sales": 159
         },
         {
          "dt": "2020-07-15T00:00:00",
          "forcasted sales": 131.14618096728876,
          "residuals": 61.85381903271124,
          "sales": 193
         },
         {
          "dt": "2020-07-16T00:00:00",
          "forcasted sales": 160.0715318445558,
          "residuals": 12.928468155444193,
          "sales": 173
         },
         {
          "dt": "2020-07-17T00:00:00",
          "forcasted sales": 169.7735239116806,
          "residuals": -5.7735239116805985,
          "sales": 164
         },
         {
          "dt": "2020-07-18T00:00:00",
          "forcasted sales": 157.85155767678873,
          "residuals": -22.85155767678873,
          "sales": 135
         },
         {
          "dt": "2020-07-19T00:00:00",
          "forcasted sales": 131.3768259556612,
          "residuals": -4.3768259556611895,
          "sales": 127
         },
         {
          "dt": "2020-07-20T00:00:00",
          "forcasted sales": 125.34653601365244,
          "residuals": -3.3465360136524396,
          "sales": 122
         },
         {
          "dt": "2020-07-21T00:00:00",
          "forcasted sales": 122.44110668560397,
          "residuals": -3.4411066856039696,
          "sales": 119
         },
         {
          "dt": "2020-07-22T00:00:00",
          "forcasted sales": 104.64816043122727,
          "residuals": -97.64816043122727,
          "sales": 7
         },
         {
          "dt": "2020-07-23T00:00:00",
          "forcasted sales": 32.49751184267579,
          "residuals": -26.49751184267579,
          "sales": 6
         },
         {
          "dt": "2020-07-24T00:00:00",
          "forcasted sales": 22.228181108287366,
          "residuals": -21.228181108287366,
          "sales": 1
         },
         {
          "dt": "2020-07-25T00:00:00",
          "forcasted sales": 13.506716920668296,
          "residuals": -8.506716920668296,
          "sales": 5
         },
         {
          "dt": "2020-07-26T00:00:00",
          "forcasted sales": 31.051041010663184,
          "residuals": -28.051041010663184,
          "sales": 3
         },
         {
          "dt": "2020-07-27T00:00:00",
          "forcasted sales": 21.05690501458414,
          "residuals": -17.05690501458414,
          "sales": 4
         },
         {
          "dt": "2020-07-28T00:00:00",
          "forcasted sales": 19.92763944753112,
          "residuals": -16.92763944753112,
          "sales": 3
         },
         {
          "dt": "2020-07-29T00:00:00",
          "forcasted sales": 14.059861651241853,
          "residuals": -10.059861651241853,
          "sales": 4
         },
         {
          "dt": "2020-07-30T00:00:00",
          "forcasted sales": 12.652621317711153,
          "residuals": -7.652621317711153,
          "sales": 5
         },
         {
          "dt": "2020-07-31T00:00:00",
          "forcasted sales": 56.947653392995356,
          "residuals": 36.052346607004644,
          "sales": 93
         },
         {
          "dt": "2020-08-01T00:00:00",
          "forcasted sales": 91.40013852292851,
          "residuals": 65.59986147707149,
          "sales": 157
         },
         {
          "dt": "2020-08-02T00:00:00",
          "forcasted sales": 128.06098526489566,
          "residuals": 31.939014735104337,
          "sales": 160
         },
         {
          "dt": "2020-08-03T00:00:00",
          "forcasted sales": 134.11457285290373,
          "residuals": 8.885427147096266,
          "sales": 143
         },
         {
          "dt": "2020-08-04T00:00:00",
          "forcasted sales": 128.30697295802614,
          "residuals": 19.693027041973863,
          "sales": 148
         },
         {
          "dt": "2020-08-05T00:00:00",
          "forcasted sales": 124.67352535061353,
          "residuals": 19.32647464938647,
          "sales": 144
         },
         {
          "dt": "2020-08-06T00:00:00",
          "forcasted sales": 125.84431025810868,
          "residuals": -0.8443102581086777,
          "sales": 125
         },
         {
          "dt": "2020-08-07T00:00:00",
          "forcasted sales": 113.57188791405581,
          "residuals": 36.42811208594419,
          "sales": 150
         },
         {
          "dt": "2020-08-08T00:00:00",
          "forcasted sales": 117.68142982523837,
          "residuals": 41.31857017476163,
          "sales": 159
         },
         {
          "dt": "2020-08-09T00:00:00",
          "forcasted sales": 123.71839729884843,
          "residuals": 51.28160270115157,
          "sales": 175
         },
         {
          "dt": "2020-08-10T00:00:00",
          "forcasted sales": 156.03546555780454,
          "residuals": 7.964534442195458,
          "sales": 164
         },
         {
          "dt": "2020-08-11T00:00:00",
          "forcasted sales": 159.5744657787622,
          "residuals": -13.574465778762203,
          "sales": 146
         },
         {
          "dt": "2020-08-12T00:00:00",
          "forcasted sales": 127.08104731958005,
          "residuals": -42.08104731958005,
          "sales": 85
         },
         {
          "dt": "2020-08-13T00:00:00",
          "forcasted sales": 87.27147244762142,
          "residuals": -1.27147244762142,
          "sales": 86
         },
         {
          "dt": "2020-08-14T00:00:00",
          "forcasted sales": 86.2294687841243,
          "residuals": 15.770531215875707,
          "sales": 102
         },
         {
          "dt": "2020-08-15T00:00:00",
          "forcasted sales": 91.0920828072715,
          "residuals": -19.092082807271495,
          "sales": 72
         },
         {
          "dt": "2020-08-16T00:00:00",
          "forcasted sales": 66.54262338521254,
          "residuals": 24.457376614787464,
          "sales": 91
         },
         {
          "dt": "2020-08-17T00:00:00",
          "forcasted sales": 85.33730125636188,
          "residuals": -25.337301256361883,
          "sales": 60
         },
         {
          "dt": "2020-08-18T00:00:00",
          "forcasted sales": 47.19520492239716,
          "residuals": -32.19520492239716,
          "sales": 15
         }
        ]
       },
       "encoding": {
        "x": {
         "bin": {
          "maxbins": 30
         },
         "field": "residuals",
         "type": "quantitative"
        },
        "y": {
         "aggregate": "count",
         "type": "quantitative"
        }
       },
       "height": 400,
       "mark": "bar",
       "width": 700
      },
      "image/png": "[encoded data removed]",
      "text/plain": [
       "<VegaLite 4 object>\n",
       "\n",
       "If you see this message, it means the renderer has not been properly enabled\n",
       "for the frontend that you are using. For more information, see\n",
       "https://altair-viz.github.io/user_guide/troubleshooting.html\n"
      ]
     },
     "execution_count": 39,
     "metadata": {},
     "output_type": "execute_result"
    }
   ],
   "source": [
    "predictions_df[\"residuals\"] = predictions_df[\"sales\"] - predictions_df[\"forcasted sales\"]\n",
    "histogram = alt.Chart(predictions_df).mark_bar().encode(\n",
    "    alt.X(\"residuals:Q\", bin=alt.Bin(maxbins=30)),\n",
    "    y='count()',\n",
    ").properties(width=700, height=400)\n",
    "histogram"
   ]
  },
  {
   "cell_type": "code",
   "execution_count": 23,
   "id": "boxed-pizza",
   "metadata": {},
   "outputs": [],
   "source": [
    "x = pd.concat((x_train, x_test))\n",
    "x.to_csv(os.path.join(data_path, \"demand_input_features.csv\"), index=False)"
   ]
  },
  {
   "cell_type": "code",
   "execution_count": 34,
   "id": "educational-cinema",
   "metadata": {},
   "outputs": [],
   "source": [
    "random_forest.fit(x, y);"
   ]
  },
  {
   "cell_type": "code",
   "execution_count": 35,
   "id": "faced-connecticut",
   "metadata": {},
   "outputs": [],
   "source": [
    "pickle.dump(random_forest, open(os.path.join(models_path, \"demand_forecasting_model2.pkl\"), \"wb\"))"
   ]
  },
  {
   "cell_type": "code",
   "execution_count": 35,
   "id": "baking-subject",
   "metadata": {},
   "outputs": [
    {
     "name": "stdout",
     "output_type": "stream",
     "text": [
      "Statistics = 0.9715274572372437, p = 0.04532279074192047\n",
      "Sample looks Gaussian (fail to reject H0)\n"
     ]
    }
   ],
   "source": [
    "stat, p = stats.shapiro(predictions_df[\"residuals\"])\n",
    "print(f\"Statistics = {stat}, p = {p}\")\n",
    "\n",
    "alpha = 0.01\n",
    "if p > alpha:\n",
    "    print(\"Sample looks Gaussian (fail to reject H0)\")\n",
    "else:\n",
    "    print(\"Sample does not look Gaussian (reject H0)\")"
   ]
  },
  {
   "cell_type": "code",
   "execution_count": 36,
   "id": "tough-marks",
   "metadata": {},
   "outputs": [
    {
     "name": "stdout",
     "output_type": "stream",
     "text": [
      "mu = 2.628900179728359; sigma = 26.53433954614029\n"
     ]
    }
   ],
   "source": [
    "mu, s = stats.norm.fit(predictions_df[\"residuals\"])\n",
    "print(f\"mu = {mu}; sigma = {s}\")"
   ]
  },
  {
   "cell_type": "code",
   "execution_count": 38,
   "id": "charitable-bankruptcy",
   "metadata": {},
   "outputs": [],
   "source": [
    "np.save(os.path.join(models_path, \"demand_residuals_parameters.npy\"), np.array([mu, s]))"
   ]
  },
  {
   "cell_type": "code",
   "execution_count": 41,
   "id": "processed-killer",
   "metadata": {},
   "outputs": [
    {
     "data": {
      "application/vnd.vegalite.v4+json": {
       "$schema": "https://vega.github.io/schema/vega-lite/v4.8.1.json",
       "concat": [
        {
         "data": {
          "name": "data-33c5306ad99be842661adb2201b79e32"
         },
         "encoding": {
          "x": {
           "bin": {
            "maxbins": 30
           },
           "field": "residuals",
           "type": "quantitative"
          },
          "y": {
           "aggregate": "count",
           "type": "quantitative"
          }
         },
         "height": 400,
         "mark": "bar",
         "width": 700
        },
        {
         "data": {
          "name": "data-04f1ae01f594d1d458fc1a9e78cb45d2"
         },
         "encoding": {
          "x": {
           "field": "x",
           "type": "quantitative"
          },
          "y": {
           "field": "density",
           "type": "quantitative"
          }
         },
         "height": 400,
         "mark": "line",
         "width": 700
        }
       ],
       "config": {
        "view": {
         "continuousHeight": 300,
         "continuousWidth": 400
        }
       },
       "datasets": {
        "data-04f1ae01f594d1d458fc1a9e78cb45d2": [
         {
          "density": 1.1907539975329466e-05,
          "x": -97.64816043122727
         },
         {
          "density": 1.3471327469314132e-05,
          "x": -96.77801995880176
         },
         {
          "density": 1.5224102760452859e-05,
          "x": -95.90787948637625
         },
         {
          "density": 1.7186442453751132e-05,
          "x": -95.03773901395074
         },
         {
          "density": 1.9380868636231853e-05,
          "x": -94.16759854152522
         },
         {
          "density": 2.1831996636570938e-05,
          "x": -93.29745806909972
         },
         {
          "density": 2.4566689781325837e-05,
          "x": -92.42731759667421
         },
         {
          "density": 2.7614220980863962e-05,
          "x": -91.5571771242487
         },
         {
          "density": 3.100644090236614e-05,
          "x": -90.68703665182319
         },
         {
          "density": 3.477795240419179e-05,
          "x": -89.81689617939769
         },
         {
          "density": 3.8966290815371004e-05,
          "x": -88.94675570697217
         },
         {
          "density": 4.361210954604218e-05,
          "x": -88.07661523454667
         },
         {
          "density": 4.8759370409366365e-05,
          "x": -87.20647476212116
         },
         {
          "density": 5.445553792300005e-05,
          "x": -86.33633428969564
         },
         {
          "density": 6.075177673889055e-05,
          "x": -85.46619381727014
         },
         {
          "density": 6.770315122436097e-05,
          "x": -84.59605334484462
         },
         {
          "density": 7.536882608569621e-05,
          "x": -83.72591287241912
         },
         {
          "density": 8.381226678838133e-05,
          "x": -82.85577239999361
         },
         {
          "density": 9.310143838654984e-05,
          "x": -81.9856319275681
         },
         {
          "density": 0.00010330900122900932,
          "x": -81.11549145514259
         },
         {
          "density": 0.00011451250186148984,
          "x": -80.24535098271707
         },
         {
          "density": 0.00012679455729572604,
          "x": -79.37521051029157
         },
         {
          "density": 0.00014024303066702214,
          "x": -78.50507003786606
         },
         {
          "density": 0.000154951196154565,
          "x": -77.63492956544056
         },
         {
          "density": 0.00017101789089463802,
          "x": -76.76478909301504
         },
         {
          "density": 0.0001885476514778475,
          "x": -75.89464862058952
         },
         {
          "density": 0.00020765083248947447,
          "x": -75.02450814816402
         },
         {
          "density": 0.00022844370442917387,
          "x": -74.15436767573851
         },
         {
          "density": 0.0002510485282346766,
          "x": -73.28422720331301
         },
         {
          "density": 0.0002755936035361926,
          "x": -72.41408673088749
         },
         {
          "density": 0.0003022132876862458,
          "x": -71.54394625846199
         },
         {
          "density": 0.00033104798254615224,
          "x": -70.67380578603647
         },
         {
          "density": 0.0003622440859677195,
          "x": -69.80366531361096
         },
         {
          "density": 0.0003959539048895473,
          "x": -68.93352484118546
         },
         {
          "density": 0.00043233552697393313,
          "x": -68.06338436875994
         },
         {
          "density": 0.00047155264774532876,
          "x": -67.19324389633444
         },
         {
          "density": 0.0005137743502568165,
          "x": -66.32310342390892
         },
         {
          "density": 0.0005591748344094035,
          "x": -65.45296295148341
         },
         {
          "density": 0.000607933093182125,
          "x": -64.58282247905791
         },
         {
          "density": 0.000660232533200788,
          "x": -63.7126820066324
         },
         {
          "density": 0.0007162605372813215,
          "x": -62.84254153420689
         },
         {
          "density": 0.0007762079668313906,
          "x": -61.972401061781376
         },
         {
          "density": 0.0008402686022821458,
          "x": -61.102260589355865
         },
         {
          "density": 0.000908638520051394,
          "x": -60.23212011693036
         },
         {
          "density": 0.0009815154049101615,
          "x": -59.36197964450485
         },
         {
          "density": 0.0010590977970364563,
          "x": -58.49183917207934
         },
         {
          "density": 0.0011415842734922355,
          "x": -57.621698699653834
         },
         {
          "density": 0.0012291725643508373,
          "x": -56.75155822722832
         },
         {
          "density": 0.0013220586042308425,
          "x": -55.88141775480281
         },
         {
          "density": 0.001420435520555968,
          "x": -55.0112772823773
         },
         {
          "density": 0.0015244925604563254,
          "x": -54.14113680995179
         },
         {
          "density": 0.0016344139588507886,
          "x": -53.270996337526284
         },
         {
          "density": 0.0017503777508990476,
          "x": -52.40085586510077
         },
         {
          "density": 0.001872554532680624,
          "x": -51.53071539267526
         },
         {
          "density": 0.0020011061746415537,
          "x": -50.66057492024976
         },
         {
          "density": 0.0021361844930415574,
          "x": -49.790434447824246
         },
         {
          "density": 0.002277929885329232,
          "x": -48.920293975398735
         },
         {
          "density": 0.0024264699360634404,
          "x": -48.050153502973224
         },
         {
          "density": 0.0025819180006780257,
          "x": -47.18001303054771
         },
         {
          "density": 0.002744371775047258,
          "x": -46.30987255812221
         },
         {
          "density": 0.002913911859442654,
          "x": -45.4397320856967
         },
         {
          "density": 0.0030906003260702717,
          "x": -44.569591613271186
         },
         {
          "density": 0.0032744792999328588,
          "x": -43.69945114084568
         },
         {
          "density": 0.00346556956326513,
          "x": -42.82931066842017
         },
         {
          "density": 0.003663869194234709,
          "x": -41.95917019599466
         },
         {
          "density": 0.003869352250977906,
          "x": -41.08902972356915
         },
         {
          "density": 0.004081967512340567,
          "x": -40.218889251143636
         },
         {
          "density": 0.004301637286912389,
          "x": -39.34874877871813
         },
         {
          "density": 0.004528256302071463,
          "x": -38.47860830629262
         },
         {
          "density": 0.0047616906847876535,
          "x": -37.60846783386711
         },
         {
          "density": 0.0050017770458637935,
          "x": -36.738327361441605
         },
         {
          "density": 0.005248321679116817,
          "x": -35.868186889016094
         },
         {
          "density": 0.005501099886713715,
          "x": -34.99804641659058
         },
         {
          "density": 0.005759855441476397,
          "x": -34.12790594416507
         },
         {
          "density": 0.006024300196453024,
          "x": -33.25776547173956
         },
         {
          "density": 0.006294113851421171,
          "x": -32.387624999314056
         },
         {
          "density": 0.0065689438852402915,
          "x": -31.517484526888552
         },
         {
          "density": 0.006848405662109608,
          "x": -30.647344054463034
         },
         {
          "density": 0.007132082718815935,
          "x": -29.77720358203753
         },
         {
          "density": 0.007419527238978628,
          "x": -28.90706310961201
         },
         {
          "density": 0.007710260719121671,
          "x": -28.036922637186507
         },
         {
          "density": 0.008003774830133654,
          "x": -27.166782164761003
         },
         {
          "density": 0.00829953247632296,
          "x": -26.296641692335484
         },
         {
          "density": 0.008596969052848487,
          "x": -25.42650121990998
         },
         {
          "density": 0.008895493900816611,
          "x": -24.55636074748446
         },
         {
          "density": 0.009194491957794497,
          "x": -23.686220275058957
         },
         {
          "density": 0.009493325599912847,
          "x": -22.816079802633453
         },
         {
          "density": 0.009791336670130369,
          "x": -21.945939330207935
         },
         {
          "density": 0.010087848685623851,
          "x": -21.07579885778243
         },
         {
          "density": 0.010382169215666585,
          "x": -20.205658385356926
         },
         {
          "density": 0.010673592419780005,
          "x": -19.335517912931408
         },
         {
          "density": 0.01096140173440533,
          "x": -18.465377440505904
         },
         {
          "density": 0.011244872694859897,
          "x": -17.5952369680804
         },
         {
          "density": 0.011523275877932561,
          "x": -16.72509649565488
         },
         {
          "density": 0.011795879949150686,
          "x": -15.854956023229377
         },
         {
          "density": 0.012061954797532509,
          "x": -14.984815550803859
         },
         {
          "density": 0.012320774739537887,
          "x": -14.114675078378355
         },
         {
          "density": 0.012571621772961719,
          "x": -13.24453460595285
         },
         {
          "density": 0.01281378886068985,
          "x": -12.374394133527332
         },
         {
          "density": 0.013046583223568668,
          "x": -11.504253661101828
         },
         {
          "density": 0.013269329621136894,
          "x": -10.63411318867631
         },
         {
          "density": 0.013481373598639379,
          "x": -9.763972716250805
         },
         {
          "density": 0.013682084678595038,
          "x": -8.893832243825301
         },
         {
          "density": 0.013870859475228817,
          "x": -8.023691771399783
         },
         {
          "density": 0.014047124710304072,
          "x": -7.153551298974278
         },
         {
          "density": 0.014210340109307629,
          "x": -6.283410826548774
         },
         {
          "density": 0.014360001157543935,
          "x": -5.413270354123256
         },
         {
          "density": 0.014495641696484048,
          "x": -4.543129881697752
         },
         {
          "density": 0.014616836341684593,
          "x": -3.6729894092722475
         },
         {
          "density": 0.014723202704733637,
          "x": -2.802848936846729
         },
         {
          "density": 0.014814403402985952,
          "x": -1.932708464421225
         },
         {
          "density": 0.014890147842308108,
          "x": -1.0625679919957065
         },
         {
          "density": 0.014950193759651283,
          "x": -0.19242751957020232
         },
         {
          "density": 0.014994348513992665,
          "x": 0.6777129528553019
         },
         {
          "density": 0.015022470116018502,
          "x": 1.5478534252808203
         },
         {
          "density": 0.015034467988846369,
          "x": 2.4179938977063244
         },
         {
          "density": 0.01503030345408279,
          "x": 3.288134370131843
         },
         {
          "density": 0.015009989939565958,
          "x": 4.158274842557347
         },
         {
          "density": 0.014973592907231898,
          "x": 5.028415314982851
         },
         {
          "density": 0.01492122950164649,
          "x": 5.89855578740837
         },
         {
          "density": 0.01485306792184421,
          "x": 6.768696259833874
         },
         {
          "density": 0.014769326521187611,
          "x": 7.638836732259378
         },
         {
          "density": 0.014670272641989265,
          "x": 8.508977204684896
         },
         {
          "density": 0.014556221193600536,
          "x": 9.3791176771104
         },
         {
          "density": 0.014427532984550814,
          "x": 10.249258149535905
         },
         {
          "density": 0.014284612821098766,
          "x": 11.119398621961423
         },
         {
          "density": 0.014127907386217345,
          "x": 11.989539094386927
         },
         {
          "density": 0.01395790291456161,
          "x": 12.859679566812446
         },
         {
          "density": 0.013775122680349366,
          "x": 13.72982003923795
         },
         {
          "density": 0.013580124316306908,
          "x": 14.599960511663454
         },
         {
          "density": 0.013373496982886418,
          "x": 15.470100984088972
         },
         {
          "density": 0.013155858407838715,
          "x": 16.340241456514477
         },
         {
          "density": 0.012927851816919566,
          "x": 17.210381928939995
         },
         {
          "density": 0.012690142777015323,
          "x": 18.0805224013655
         },
         {
          "density": 0.012443415973291738,
          "x": 18.950662873791003
         },
         {
          "density": 0.012188371942098989,
          "x": 19.820803346216522
         },
         {
          "density": 0.011925723781307622,
          "x": 20.690943818642026
         },
         {
          "density": 0.011656193859508382,
          "x": 21.56108429106753
         },
         {
          "density": 0.011380510545089763,
          "x": 22.43122476349305
         },
         {
          "density": 0.011099404975617665,
          "x": 23.301365235918553
         },
         {
          "density": 0.010813607887191266,
          "x": 24.171505708344057
         },
         {
          "density": 0.01052384652254909,
          "x": 25.041646180769575
         },
         {
          "density": 0.010230841635660584,
          "x": 25.91178665319508
         },
         {
          "density": 0.009935304609375377,
          "x": 26.781927125620598
         },
         {
          "density": 0.00963793470142864,
          "x": 27.652067598046102
         },
         {
          "density": 0.009339416432731402,
          "x": 28.522208070471606
         },
         {
          "density": 0.00904041713042561,
          "x": 29.392348542897125
         },
         {
          "density": 0.008741584636670588,
          "x": 30.26248901532263
         },
         {
          "density": 0.008443545192566895,
          "x": 31.132629487748147
         },
         {
          "density": 0.008146901505031948,
          "x": 32.00276996017365
         },
         {
          "density": 0.007852231002834553,
          "x": 32.872910432599156
         },
         {
          "density": 0.007560084286389465,
          "x": 33.74305090502466
         },
         {
          "density": 0.007270983774322487,
          "x": 34.613191377450164
         },
         {
          "density": 0.006985422548256665,
          "x": 35.4833318498757
         },
         {
          "density": 0.006703863395754465,
          "x": 36.3534723223012
         },
         {
          "density": 0.006426738049891511,
          "x": 37.223612794726705
         },
         {
          "density": 0.006154446622547656,
          "x": 38.09375326715221
         },
         {
          "density": 0.0058873572271894185,
          "x": 38.96389373957771
         },
         {
          "density": 0.00562580578569528,
          "x": 39.834034212003246
         },
         {
          "density": 0.005370096012648779,
          "x": 40.70417468442875
         },
         {
          "density": 0.005120499569500601,
          "x": 41.574315156854254
         },
         {
          "density": 0.00487725638008592,
          "x": 42.44445562927976
         },
         {
          "density": 0.00464057509817974,
          "x": 43.31459610170526
         },
         {
          "density": 0.004410633717084653,
          "x": 44.184736574130795
         },
         {
          "density": 0.004187580310672918,
          "x": 45.0548770465563
         },
         {
          "density": 0.0039715338948478245,
          "x": 45.925017518981804
         },
         {
          "density": 0.0037625853980475738,
          "x": 46.79515799140731
         },
         {
          "density": 0.0035607987291847126,
          "x": 47.66529846383281
         },
         {
          "density": 0.003366211931293294,
          "x": 48.535438936258345
         },
         {
          "density": 0.0031788384091391672,
          "x": 49.40557940868385
         },
         {
          "density": 0.0029986682191310765,
          "x": 50.27571988110935
         },
         {
          "density": 0.002825669410045875,
          "x": 51.14586035353486
         },
         {
          "density": 0.0026597894033427785,
          "x": 52.01600082596036
         },
         {
          "density": 0.0025009564021826066,
          "x": 52.886141298385866
         },
         {
          "density": 0.002349080818680445,
          "x": 53.7562817708114
         },
         {
          "density": 0.002204056709396148,
          "x": 54.6264222432369
         },
         {
          "density": 0.0020657632095984683,
          "x": 55.49656271566241
         },
         {
          "density": 0.0019340659574172553,
          "x": 56.36670318808791
         },
         {
          "density": 0.0018088184996154554,
          "x": 57.236843660513415
         },
         {
          "density": 0.0016898636713608788,
          "x": 58.10698413293895
         },
         {
          "density": 0.001577034943048543,
          "x": 58.97712460536445
         },
         {
          "density": 0.0014701577279102717,
          "x": 59.847265077789956
         },
         {
          "density": 0.0013690506448419102,
          "x": 60.71740555021546
         },
         {
          "density": 0.0012735267315726404,
          "x": 61.587546022640964
         },
         {
          "density": 0.001183394603989295,
          "x": 62.45768649506647
         },
         {
          "density": 0.0010984595581051242,
          "x": 63.327826967492
         },
         {
          "density": 0.0010185246118215134,
          "x": 64.1979674399175
         },
         {
          "density": 0.0009433914842679344,
          "x": 65.06810791234301
         },
         {
          "density": 0.0008728615111156051,
          "x": 65.93824838476851
         },
         {
          "density": 0.0008067364948398131,
          "x": 66.80838885719402
         },
         {
          "density": 0.0007448194894519044,
          "x": 67.67852932961955
         },
         {
          "density": 0.0006869155197315785,
          "x": 68.54866980204505
         },
         {
          "density": 0.0006328322354614273,
          "x": 69.41881027447056
         },
         {
          "density": 0.0005823805015972406,
          "x": 70.28895074689606
         },
         {
          "density": 0.0005353749256982192,
          "x": 71.15909121932157
         },
         {
          "density": 0.0004916343242907199,
          "x": 72.0292316917471
         },
         {
          "density": 0.00045098213014726157,
          "x": 72.8993721641726
         },
         {
          "density": 0.0004132467427297547,
          "x": 73.76951263659811
         },
         {
          "density": 0.00037826182427311327,
          "x": 74.63965310902361
         },
         {
          "density": 0.0003458665441735945,
          "x": 75.50979358144912
         }
        ],
        "data-33c5306ad99be842661adb2201b79e32": [
         {
          "dt": "2020-05-21T00:00:00",
          "forcasted sales": 173.55357990877098,
          "residuals": -7.553579908770985,
          "sales": 166
         },
         {
          "dt": "2020-05-22T00:00:00",
          "forcasted sales": 180.9094433043151,
          "residuals": -31.90944330431509,
          "sales": 149
         },
         {
          "dt": "2020-05-23T00:00:00",
          "forcasted sales": 141.39863640830794,
          "residuals": 32.60136359169206,
          "sales": 174
         },
         {
          "dt": "2020-05-24T00:00:00",
          "forcasted sales": 177.57374573251911,
          "residuals": -31.573745732519114,
          "sales": 146
         },
         {
          "dt": "2020-05-25T00:00:00",
          "forcasted sales": 141.88778488587823,
          "residuals": -28.887784885878233,
          "sales": 113
         },
         {
          "dt": "2020-05-26T00:00:00",
          "forcasted sales": 124.99574664351142,
          "residuals": -15.995746643511424,
          "sales": 109
         },
         {
          "dt": "2020-05-27T00:00:00",
          "forcasted sales": 120.85819224694744,
          "residuals": -0.8581922469474392,
          "sales": 120
         },
         {
          "dt": "2020-05-28T00:00:00",
          "forcasted sales": 130.17416075046035,
          "residuals": -0.17416075046034507,
          "sales": 130
         },
         {
          "dt": "2020-05-29T00:00:00",
          "forcasted sales": 137.54667543638084,
          "residuals": -18.546675436380838,
          "sales": 119
         },
         {
          "dt": "2020-05-30T00:00:00",
          "forcasted sales": 131.33917260126097,
          "residuals": -24.33917260126097,
          "sales": 107
         },
         {
          "dt": "2020-05-31T00:00:00",
          "forcasted sales": 124.15296063335023,
          "residuals": -19.152960633350233,
          "sales": 105
         },
         {
          "dt": "2020-06-01T00:00:00",
          "forcasted sales": 121.4780436218652,
          "residuals": -11.478043621865197,
          "sales": 110
         },
         {
          "dt": "2020-06-02T00:00:00",
          "forcasted sales": 121.5467933633135,
          "residuals": -34.5467933633135,
          "sales": 87
         },
         {
          "dt": "2020-06-03T00:00:00",
          "forcasted sales": 108.27348190745288,
          "residuals": -0.2734819074528758,
          "sales": 108
         },
         {
          "dt": "2020-06-04T00:00:00",
          "forcasted sales": 111.60244734820948,
          "residuals": -4.6024473482094805,
          "sales": 107
         },
         {
          "dt": "2020-06-05T00:00:00",
          "forcasted sales": 117.2675822122696,
          "residuals": -10.267582212269602,
          "sales": 107
         },
         {
          "dt": "2020-06-06T00:00:00",
          "forcasted sales": 116.40929546787676,
          "residuals": -19.40929546787676,
          "sales": 97
         },
         {
          "dt": "2020-06-07T00:00:00",
          "forcasted sales": 114.65380308475692,
          "residuals": 9.346196915243084,
          "sales": 124
         },
         {
          "dt": "2020-06-08T00:00:00",
          "forcasted sales": 132.94084855377386,
          "residuals": 9.059151446226139,
          "sales": 142
         },
         {
          "dt": "2020-06-09T00:00:00",
          "forcasted sales": 137.09409877758276,
          "residuals": 32.90590122241724,
          "sales": 170
         },
         {
          "dt": "2020-06-10T00:00:00",
          "forcasted sales": 159.96514212564637,
          "residuals": 33.034857874353634,
          "sales": 193
         },
         {
          "dt": "2020-06-11T00:00:00",
          "forcasted sales": 177.26660800307386,
          "residuals": -25.266608003073856,
          "sales": 152
         },
         {
          "dt": "2020-06-12T00:00:00",
          "forcasted sales": 145.47251238465887,
          "residuals": -0.47251238465887013,
          "sales": 145
         },
         {
          "dt": "2020-06-13T00:00:00",
          "forcasted sales": 138.2849088390548,
          "residuals": -10.284908839054793,
          "sales": 128
         },
         {
          "dt": "2020-06-14T00:00:00",
          "forcasted sales": 135.70082227787017,
          "residuals": 2.2991777221298264,
          "sales": 138
         },
         {
          "dt": "2020-06-15T00:00:00",
          "forcasted sales": 137.06285969600654,
          "residuals": 12.93714030399346,
          "sales": 150
         },
         {
          "dt": "2020-06-16T00:00:00",
          "forcasted sales": 136.91768774871397,
          "residuals": 12.082312251286027,
          "sales": 149
         },
         {
          "dt": "2020-06-17T00:00:00",
          "forcasted sales": 137.7955577957029,
          "residuals": 16.204442204297095,
          "sales": 154
         },
         {
          "dt": "2020-06-18T00:00:00",
          "forcasted sales": 138.48601879968518,
          "residuals": 13.513981200314817,
          "sales": 152
         },
         {
          "dt": "2020-06-19T00:00:00",
          "forcasted sales": 138.3453951358299,
          "residuals": 6.654604864170096,
          "sales": 145
         },
         {
          "dt": "2020-06-20T00:00:00",
          "forcasted sales": 138.53604724885636,
          "residuals": 3.463952751143637,
          "sales": 142
         },
         {
          "dt": "2020-06-21T00:00:00",
          "forcasted sales": 138.20422208880072,
          "residuals": 14.79577791119928,
          "sales": 153
         },
         {
          "dt": "2020-06-22T00:00:00",
          "forcasted sales": 137.7992071536265,
          "residuals": 11.200792846373503,
          "sales": 149
         },
         {
          "dt": "2020-06-23T00:00:00",
          "forcasted sales": 137.96146232301334,
          "residuals": 17.038537676986664,
          "sales": 155
         },
         {
          "dt": "2020-06-24T00:00:00",
          "forcasted sales": 140.22069249497306,
          "residuals": 9.779307505026935,
          "sales": 150
         },
         {
          "dt": "2020-06-25T00:00:00",
          "forcasted sales": 137.96146232301334,
          "residuals": 34.038537676986664,
          "sales": 172
         },
         {
          "dt": "2020-06-26T00:00:00",
          "forcasted sales": 162.8388192623195,
          "residuals": -34.838819262319504,
          "sales": 128
         },
         {
          "dt": "2020-06-27T00:00:00",
          "forcasted sales": 136.84121315288616,
          "residuals": -8.841213152886155,
          "sales": 128
         },
         {
          "dt": "2020-06-28T00:00:00",
          "forcasted sales": 134.03357852479826,
          "residuals": 43.96642147520174,
          "sales": 178
         },
         {
          "dt": "2020-06-29T00:00:00",
          "forcasted sales": 161.98169887576753,
          "residuals": 17.018301124232465,
          "sales": 179
         },
         {
          "dt": "2020-06-30T00:00:00",
          "forcasted sales": 171.0457931213212,
          "residuals": 10.954206878678804,
          "sales": 182
         },
         {
          "dt": "2020-07-01T00:00:00",
          "forcasted sales": 182.94048863363017,
          "residuals": 7.059511366369833,
          "sales": 190
         },
         {
          "dt": "2020-07-02T00:00:00",
          "forcasted sales": 181.7396626096457,
          "residuals": -18.739662609645706,
          "sales": 163
         },
         {
          "dt": "2020-07-03T00:00:00",
          "forcasted sales": 157.25880533446224,
          "residuals": 9.741194665537762,
          "sales": 167
         },
         {
          "dt": "2020-07-04T00:00:00",
          "forcasted sales": 156.7900475527391,
          "residuals": -3.790047552739111,
          "sales": 153
         },
         {
          "dt": "2020-07-05T00:00:00",
          "forcasted sales": 132.92478361249698,
          "residuals": 48.07521638750302,
          "sales": 181
         },
         {
          "dt": "2020-07-06T00:00:00",
          "forcasted sales": 153.89572469851146,
          "residuals": 33.10427530148854,
          "sales": 187
         },
         {
          "dt": "2020-07-07T00:00:00",
          "forcasted sales": 169.55595979194996,
          "residuals": 21.44404020805004,
          "sales": 191
         },
         {
          "dt": "2020-07-08T00:00:00",
          "forcasted sales": 176.22100364338223,
          "residuals": 27.778996356617768,
          "sales": 204
         },
         {
          "dt": "2020-07-09T00:00:00",
          "forcasted sales": 187.81643861279701,
          "residuals": -24.816438612797015,
          "sales": 163
         },
         {
          "dt": "2020-07-10T00:00:00",
          "forcasted sales": 152.40195963037257,
          "residuals": 24.598040369627427,
          "sales": 177
         },
         {
          "dt": "2020-07-11T00:00:00",
          "forcasted sales": 158.951827680585,
          "residuals": -3.951827680585012,
          "sales": 155
         },
         {
          "dt": "2020-07-12T00:00:00",
          "forcasted sales": 134.49020641855088,
          "residuals": 75.50979358144912,
          "sales": 210
         },
         {
          "dt": "2020-07-13T00:00:00",
          "forcasted sales": 164.5639066398691,
          "residuals": -2.5639066398690886,
          "sales": 162
         },
         {
          "dt": "2020-07-14T00:00:00",
          "forcasted sales": 145.15505900346173,
          "residuals": 13.84494099653827,
          "sales": 159
         },
         {
          "dt": "2020-07-15T00:00:00",
          "forcasted sales": 131.14618096728876,
          "residuals": 61.85381903271124,
          "sales": 193
         },
         {
          "dt": "2020-07-16T00:00:00",
          "forcasted sales": 160.0715318445558,
          "residuals": 12.928468155444193,
          "sales": 173
         },
         {
          "dt": "2020-07-17T00:00:00",
          "forcasted sales": 169.7735239116806,
          "residuals": -5.7735239116805985,
          "sales": 164
         },
         {
          "dt": "2020-07-18T00:00:00",
          "forcasted sales": 157.85155767678873,
          "residuals": -22.85155767678873,
          "sales": 135
         },
         {
          "dt": "2020-07-19T00:00:00",
          "forcasted sales": 131.3768259556612,
          "residuals": -4.3768259556611895,
          "sales": 127
         },
         {
          "dt": "2020-07-20T00:00:00",
          "forcasted sales": 125.34653601365244,
          "residuals": -3.3465360136524396,
          "sales": 122
         },
         {
          "dt": "2020-07-21T00:00:00",
          "forcasted sales": 122.44110668560397,
          "residuals": -3.4411066856039696,
          "sales": 119
         },
         {
          "dt": "2020-07-22T00:00:00",
          "forcasted sales": 104.64816043122727,
          "residuals": -97.64816043122727,
          "sales": 7
         },
         {
          "dt": "2020-07-23T00:00:00",
          "forcasted sales": 32.49751184267579,
          "residuals": -26.49751184267579,
          "sales": 6
         },
         {
          "dt": "2020-07-24T00:00:00",
          "forcasted sales": 22.228181108287366,
          "residuals": -21.228181108287366,
          "sales": 1
         },
         {
          "dt": "2020-07-25T00:00:00",
          "forcasted sales": 13.506716920668296,
          "residuals": -8.506716920668296,
          "sales": 5
         },
         {
          "dt": "2020-07-26T00:00:00",
          "forcasted sales": 31.051041010663184,
          "residuals": -28.051041010663184,
          "sales": 3
         },
         {
          "dt": "2020-07-27T00:00:00",
          "forcasted sales": 21.05690501458414,
          "residuals": -17.05690501458414,
          "sales": 4
         },
         {
          "dt": "2020-07-28T00:00:00",
          "forcasted sales": 19.92763944753112,
          "residuals": -16.92763944753112,
          "sales": 3
         },
         {
          "dt": "2020-07-29T00:00:00",
          "forcasted sales": 14.059861651241853,
          "residuals": -10.059861651241853,
          "sales": 4
         },
         {
          "dt": "2020-07-30T00:00:00",
          "forcasted sales": 12.652621317711153,
          "residuals": -7.652621317711153,
          "sales": 5
         },
         {
          "dt": "2020-07-31T00:00:00",
          "forcasted sales": 56.947653392995356,
          "residuals": 36.052346607004644,
          "sales": 93
         },
         {
          "dt": "2020-08-01T00:00:00",
          "forcasted sales": 91.40013852292851,
          "residuals": 65.59986147707149,
          "sales": 157
         },
         {
          "dt": "2020-08-02T00:00:00",
          "forcasted sales": 128.06098526489566,
          "residuals": 31.939014735104337,
          "sales": 160
         },
         {
          "dt": "2020-08-03T00:00:00",
          "forcasted sales": 134.11457285290373,
          "residuals": 8.885427147096266,
          "sales": 143
         },
         {
          "dt": "2020-08-04T00:00:00",
          "forcasted sales": 128.30697295802614,
          "residuals": 19.693027041973863,
          "sales": 148
         },
         {
          "dt": "2020-08-05T00:00:00",
          "forcasted sales": 124.67352535061353,
          "residuals": 19.32647464938647,
          "sales": 144
         },
         {
          "dt": "2020-08-06T00:00:00",
          "forcasted sales": 125.84431025810868,
          "residuals": -0.8443102581086777,
          "sales": 125
         },
         {
          "dt": "2020-08-07T00:00:00",
          "forcasted sales": 113.57188791405581,
          "residuals": 36.42811208594419,
          "sales": 150
         },
         {
          "dt": "2020-08-08T00:00:00",
          "forcasted sales": 117.68142982523837,
          "residuals": 41.31857017476163,
          "sales": 159
         },
         {
          "dt": "2020-08-09T00:00:00",
          "forcasted sales": 123.71839729884843,
          "residuals": 51.28160270115157,
          "sales": 175
         },
         {
          "dt": "2020-08-10T00:00:00",
          "forcasted sales": 156.03546555780454,
          "residuals": 7.964534442195458,
          "sales": 164
         },
         {
          "dt": "2020-08-11T00:00:00",
          "forcasted sales": 159.5744657787622,
          "residuals": -13.574465778762203,
          "sales": 146
         },
         {
          "dt": "2020-08-12T00:00:00",
          "forcasted sales": 127.08104731958005,
          "residuals": -42.08104731958005,
          "sales": 85
         },
         {
          "dt": "2020-08-13T00:00:00",
          "forcasted sales": 87.27147244762142,
          "residuals": -1.27147244762142,
          "sales": 86
         },
         {
          "dt": "2020-08-14T00:00:00",
          "forcasted sales": 86.2294687841243,
          "residuals": 15.770531215875707,
          "sales": 102
         },
         {
          "dt": "2020-08-15T00:00:00",
          "forcasted sales": 91.0920828072715,
          "residuals": -19.092082807271495,
          "sales": 72
         },
         {
          "dt": "2020-08-16T00:00:00",
          "forcasted sales": 66.54262338521254,
          "residuals": 24.457376614787464,
          "sales": 91
         },
         {
          "dt": "2020-08-17T00:00:00",
          "forcasted sales": 85.33730125636188,
          "residuals": -25.337301256361883,
          "sales": 60
         },
         {
          "dt": "2020-08-18T00:00:00",
          "forcasted sales": 47.19520492239716,
          "residuals": -32.19520492239716,
          "sales": 15
         }
        ]
       }
      },
      "image/png": "[encoded data removed]",
      "text/plain": [
       "<VegaLite 4 object>\n",
       "\n",
       "If you see this message, it means the renderer has not been properly enabled\n",
       "for the frontend that you are using. For more information, see\n",
       "https://altair-viz.github.io/user_guide/troubleshooting.html\n"
      ]
     },
     "execution_count": 41,
     "metadata": {},
     "output_type": "execute_result"
    }
   ],
   "source": [
    "xt = np.linspace(predictions_df[\"residuals\"].min(), predictions_df[\"residuals\"].max(), 200)\n",
    "density = stats.norm.pdf(xt, mu, s)\n",
    "\n",
    "density_chart = alt.Chart(pd.DataFrame({\"x\": xt, \"density\": density})).mark_line() \\\n",
    ".encode(\n",
    "    x = alt.X(\"x:Q\"),\n",
    "    y = alt.Y(\"density:Q\"),\n",
    ").properties(width=700, height=400)\n",
    "\n",
    "alt.ConcatChart(concat=[histogram, density_chart])"
   ]
  }
 ],
 "metadata": {
  "kernelspec": {
   "display_name": "Python 3",
   "language": "python",
   "name": "python3"
  },
  "language_info": {
   "codemirror_mode": {
    "name": "ipython",
    "version": 3
   },
   "file_extension": ".py",
   "mimetype": "text/x-python",
   "name": "python",
   "nbconvert_exporter": "python",
   "pygments_lexer": "ipython3",
   "version": "3.7.10"
  }
 },
 "nbformat": 4,
 "nbformat_minor": 5
}
