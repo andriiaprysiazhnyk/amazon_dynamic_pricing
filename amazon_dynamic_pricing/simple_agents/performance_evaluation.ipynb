{
 "cells": [
  {
   "cell_type": "code",
   "execution_count": 2,
   "metadata": {},
   "outputs": [],
   "source": [
    "import numpy as np\n",
    "import pandas as pd\n",
    "import matplotlib.pyplot as plt"
   ]
  },
  {
   "cell_type": "code",
   "execution_count": 3,
   "metadata": {},
   "outputs": [],
   "source": [
    "seasonality_path = \"C:\\\\Users\\\\andrii.prysiazhnyk\\\\Documents\\data\\\\dynamic_pricing\\\\data\\\\seasonality.csv\"\n",
    "seasonality = list(pd.read_csv(seasonality_path)[\"Seasonality\"])\n",
    "seasonality_coefficient = 0.4842866956976883\n",
    "k0 = 200\n",
    "k1 = -133\n",
    "k = 0.006060606060606061"
   ]
  },
  {
   "cell_type": "code",
   "execution_count": 4,
   "metadata": {},
   "outputs": [],
   "source": [
    "def sigmoid(x):\n",
    "    return 1 / (1 + np.exp(-x))"
   ]
  },
  {
   "cell_type": "code",
   "execution_count": 5,
   "metadata": {},
   "outputs": [],
   "source": [
    "def sales(t, price, c_price, prev_price, prev_c_price):\n",
    "    s = seasonality_coefficient * seasonality[t]\n",
    "#     p = (k0 + k1 * price / c_price) * (1 + np.tanh(k * (k0 + k1 * prev_price / prev_c_price)))\n",
    "    #p = (k0 + k1 * price / c_price) * (prev_c_price / prev_price) ** 0.5\n",
    "#     p = (k0 + k1 * price / c_price) * sigmoid(k * (k0 + k1 * prev_price / prev_c_price))\n",
    "    p = (k0 + k1 * price / c_price) * sigmoid(k * prev_price)\n",
    "    return s + p"
   ]
  },
  {
   "cell_type": "code",
   "execution_count": 6,
   "metadata": {},
   "outputs": [],
   "source": [
    "def get_optimal_price(t, c_price, prev_price, prev_c_price):\n",
    "    s = seasonality_coefficient * seasonality[t]\n",
    "#     c1 = (k1 / c_price) * (1 + np.tanh(k * (k0 + k1 * (prev_price / prev_c_price))))\n",
    "#     c2 = k0 * (1 + np.tanh(k * (k0 + k1 * (prev_price / prev_c_price))))\n",
    "    #c1 = (k1 / c_price) * (prev_c_price / prev_price) ** 0.5\n",
    "    #c2 = k0 * (prev_c_price / prev_price)\n",
    "#     c1 = (k1 / c_price) * sigmoid(k * (k0 + k1 * prev_price / prev_c_price))\n",
    "#     c2 = k0 * sigmoid(k * (k0 + k1 * prev_price / prev_c_price))\n",
    "    \n",
    "    c1 = (k1 / c_price) * sigmoid(k * prev_price)\n",
    "    c2 = k0 * sigmoid(k * prev_price)\n",
    "    \n",
    "    optimal_price = prime_cost / 2 - s / (2 * c1) - c2 / (2 * c1)\n",
    "    return optimal_price"
   ]
  },
  {
   "cell_type": "code",
   "execution_count": 7,
   "metadata": {},
   "outputs": [],
   "source": [
    "def reward(t, price, c_price, prev_price, prev_c_price):\n",
    "    return sales(t, price, c_price, prev_price, prev_c_price) * (price - prime_cost)"
   ]
  },
  {
   "cell_type": "code",
   "execution_count": 8,
   "metadata": {},
   "outputs": [],
   "source": [
    "def get_random_state():\n",
    "    return np.random.randint(1, 53), \\\n",
    "           min_price + (max_price - min_price) * np.random.rand(), \\\n",
    "           min_price + (max_price - min_price) * np.random.rand(), \\\n",
    "           min_price + (max_price - min_price) * np.random.rand()"
   ]
  },
  {
   "cell_type": "code",
   "execution_count": 9,
   "metadata": {},
   "outputs": [],
   "source": [
    "prime_cost = 100\n",
    "min_price, max_price = 2 * prime_cost, 3 * prime_cost"
   ]
  },
  {
   "cell_type": "code",
   "execution_count": 10,
   "metadata": {},
   "outputs": [],
   "source": [
    "def validate(agent):\n",
    "    prices = []\n",
    "    rewards = []\n",
    "    episodes = 1000\n",
    "\n",
    "    t, c_price, prev_price, prev_c_price = get_random_state()\n",
    "    t = 0\n",
    "    prev_price = (min_price + max_price) / 2\n",
    "\n",
    "    for i in range(episodes):\n",
    "        t, c_price, prev_price, prev_c_price = get_random_state()\n",
    "        t = 0\n",
    "        prev_price = (min_price + max_price) / 2\n",
    "        c = 0\n",
    "\n",
    "        \n",
    "        for i in range(52):\n",
    "            price = agent.act(t, c_price, prev_price, prev_c_price)\n",
    "            prices.append(price)\n",
    "            r = reward(t, price, c_price, prev_price, prev_c_price)\n",
    "#             rewards.append(r)\n",
    "            c += r\n",
    "    #         t, c_price, prev_price, prev_c_price = get_random_state()\n",
    "    #         t -= 1\n",
    "            t = (t + 1) % 52\n",
    "            prev_c_price = c_price\n",
    "            prev_price = price\n",
    "            c_price = min_price + (max_price - min_price) * np.random.rand()\n",
    "        rewards.append(c)\n",
    "        \n",
    "    prices = pd.Series(prices)\n",
    "    rewards = pd.Series(rewards)\n",
    "    return prices, rewards"
   ]
  },
  {
   "cell_type": "code",
   "execution_count": 11,
   "metadata": {},
   "outputs": [],
   "source": [
    "class GREEDY:\n",
    "    def act(self, t, c_price, prev_price, prev_c_price):\n",
    "        price = get_optimal_price(t, c_price, prev_price, prev_c_price)\n",
    "\n",
    "        if price > max_price:\n",
    "            price = max_price\n",
    "        elif price < min_price:\n",
    "            price = min_price\n",
    "        return price\n",
    "\n",
    "class MIN:\n",
    "    def act(self, t, c_price, prev_price, prev_c_price):\n",
    "        return min_price\n",
    "\n",
    "class MAX:\n",
    "    def act(self, t, c_price, prev_price, prev_c_price):\n",
    "        return max_price\n",
    "\n",
    "class RAND:\n",
    "    def act(self, t, c_price, prev_price, prev_c_price):\n",
    "        return min_price + (max_price - min_price) * np.random.rand()"
   ]
  },
  {
   "cell_type": "code",
   "execution_count": 12,
   "metadata": {},
   "outputs": [],
   "source": [
    "g = GREEDY()\n",
    "mn = MIN()\n",
    "mx = MAX()\n",
    "r = RAND()"
   ]
  },
  {
   "cell_type": "code",
   "execution_count": 13,
   "metadata": {},
   "outputs": [],
   "source": [
    "g_p, g_r = validate(g)"
   ]
  },
  {
   "cell_type": "code",
   "execution_count": 14,
   "metadata": {},
   "outputs": [
    {
     "data": {
      "text/plain": [
       "<AxesSubplot:>"
      ]
     },
     "execution_count": 14,
     "metadata": {},
     "output_type": "execute_result"
    },
    {
     "data": {
      "image/png": "[encoded data removed]",
      "text/plain": [
       "<Figure size 432x288 with 1 Axes>"
      ]
     },
     "metadata": {
      "needs_background": "light"
     },
     "output_type": "display_data"
    }
   ],
   "source": [
    "g_p.hist()"
   ]
  },
  {
   "cell_type": "code",
   "execution_count": 15,
   "metadata": {},
   "outputs": [
    {
     "data": {
      "text/plain": [
       "428366.1478996645"
      ]
     },
     "execution_count": 15,
     "metadata": {},
     "output_type": "execute_result"
    }
   ],
   "source": [
    "g_r.mean()"
   ]
  },
  {
   "cell_type": "code",
   "execution_count": 16,
   "metadata": {},
   "outputs": [],
   "source": [
    "mn_p, mn_r = validate(mn)"
   ]
  },
  {
   "cell_type": "code",
   "execution_count": 17,
   "metadata": {},
   "outputs": [
    {
     "data": {
      "text/plain": [
       "<AxesSubplot:>"
      ]
     },
     "execution_count": 17,
     "metadata": {},
     "output_type": "execute_result"
    },
    {
     "data": {
      "image/png": "[encoded data removed]",
      "text/plain": [
       "<Figure size 432x288 with 1 Axes>"
      ]
     },
     "metadata": {
      "needs_background": "light"
     },
     "output_type": "display_data"
    }
   ],
   "source": [
    "mn_p.hist()"
   ]
  },
  {
   "cell_type": "code",
   "execution_count": 18,
   "metadata": {},
   "outputs": [
    {
     "data": {
      "text/plain": [
       "369773.4558886587"
      ]
     },
     "execution_count": 18,
     "metadata": {},
     "output_type": "execute_result"
    }
   ],
   "source": [
    "mn_r.mean()"
   ]
  },
  {
   "cell_type": "code",
   "execution_count": 19,
   "metadata": {},
   "outputs": [],
   "source": [
    "mx_p, mx_r = validate(mx)"
   ]
  },
  {
   "cell_type": "code",
   "execution_count": 20,
   "metadata": {},
   "outputs": [
    {
     "data": {
      "text/plain": [
       "<AxesSubplot:>"
      ]
     },
     "execution_count": 20,
     "metadata": {},
     "output_type": "execute_result"
    },
    {
     "data": {
      "image/png": "[encoded data removed]",
      "text/plain": [
       "<Figure size 432x288 with 1 Axes>"
      ]
     },
     "metadata": {
      "needs_background": "light"
     },
     "output_type": "display_data"
    }
   ],
   "source": [
    "mx_p.hist()"
   ]
  },
  {
   "cell_type": "code",
   "execution_count": 21,
   "metadata": {},
   "outputs": [
    {
     "data": {
      "text/plain": [
       "340639.8558825891"
      ]
     },
     "execution_count": 21,
     "metadata": {},
     "output_type": "execute_result"
    }
   ],
   "source": [
    "mx_r.mean()"
   ]
  },
  {
   "cell_type": "code",
   "execution_count": 22,
   "metadata": {},
   "outputs": [],
   "source": [
    "r_p, r_r = validate(r)"
   ]
  },
  {
   "cell_type": "code",
   "execution_count": 23,
   "metadata": {},
   "outputs": [
    {
     "data": {
      "text/plain": [
       "<AxesSubplot:>"
      ]
     },
     "execution_count": 23,
     "metadata": {},
     "output_type": "execute_result"
    },
    {
     "data": {
      "image/png": "[encoded data removed]",
      "text/plain": [
       "<Figure size 432x288 with 1 Axes>"
      ]
     },
     "metadata": {
      "needs_background": "light"
     },
     "output_type": "display_data"
    }
   ],
   "source": [
    "r_p.hist()"
   ]
  },
  {
   "cell_type": "code",
   "execution_count": 24,
   "metadata": {},
   "outputs": [
    {
     "data": {
      "text/plain": [
       "397223.78228520084"
      ]
     },
     "execution_count": 24,
     "metadata": {},
     "output_type": "execute_result"
    }
   ],
   "source": [
    "r_r.mean()"
   ]
  },
  {
   "cell_type": "code",
   "execution_count": 28,
   "metadata": {},
   "outputs": [
    {
     "data": {
      "text/plain": [
       "72"
      ]
     },
     "execution_count": 28,
     "metadata": {},
     "output_type": "execute_result"
    }
   ],
   "source": [
    "(g_r < r_r).sum()"
   ]
  },
  {
   "cell_type": "code",
   "execution_count": 29,
   "metadata": {},
   "outputs": [
    {
     "data": {
      "text/plain": [
       "(1000,)"
      ]
     },
     "execution_count": 29,
     "metadata": {},
     "output_type": "execute_result"
    }
   ],
   "source": [
    "g_r.shape"
   ]
  }
 ],
 "metadata": {
  "kernelspec": {
   "display_name": "Python 3",
   "language": "python",
   "name": "python3"
  },
  "language_info": {
   "codemirror_mode": {
    "name": "ipython",
    "version": 3
   },
   "file_extension": ".py",
   "mimetype": "text/x-python",
   "name": "python",
   "nbconvert_exporter": "python",
   "pygments_lexer": "ipython3",
   "version": "3.7.9"
  }
 },
 "nbformat": 4,
 "nbformat_minor": 4
}
